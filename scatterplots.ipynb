{
 "cells": [
  {
   "attachments": {},
   "cell_type": "markdown",
   "metadata": {},
   "source": [
    "# 2-D Exploratory Data Analysis\n",
    "\n",
    "In this notebook we will pick ONE variable you're interested in understanding from your non-census data and plot it against various census variables in scatterplots or dotplots."
   ]
  },
  {
   "attachments": {},
   "cell_type": "markdown",
   "metadata": {},
   "source": [
    "### Standard Python and R imports"
   ]
  },
  {
   "cell_type": "code",
   "execution_count": 1,
   "metadata": {},
   "outputs": [
    {
     "name": "stderr",
     "output_type": "stream",
     "text": [
      "Durante la inicialización - Warning messages:\n",
      "1: Setting LC_COLLATE failed, using \"C\" \n",
      "2: Setting LC_TIME failed, using \"C\" \n",
      "3: Setting LC_MESSAGES failed, using \"C\" \n",
      "4: Setting LC_MONETARY failed, using \"C\" \n"
     ]
    }
   ],
   "source": [
    "%load_ext rpy2.ipython\n",
    "%load_ext autoreload\n",
    "%autoreload 2\n",
    "\n",
    "%matplotlib inline  \n",
    "from matplotlib import rcParams\n",
    "rcParams['figure.figsize'] = (16, 100)\n",
    "\n",
    "import warnings\n",
    "from rpy2.rinterface import RRuntimeWarning\n",
    "warnings.filterwarnings(\"ignore\") # Ignore all warnings\n",
    "# warnings.filterwarnings(\"ignore\", category=RRuntimeWarning) # Show some warnings\n",
    "\n",
    "import pandas as pd\n",
    "import numpy as np\n",
    "import matplotlib.pyplot as plt\n",
    "from IPython.display import display, HTML"
   ]
  },
  {
   "cell_type": "code",
   "execution_count": 2,
   "metadata": {},
   "outputs": [
    {
     "data": {
      "application/javascript": "// Disable auto-scrolling\nIPython.OutputArea.prototype._should_scroll = function(lines) {\n    return false;\n}\n",
      "text/plain": [
       "<IPython.core.display.Javascript object>"
      ]
     },
     "metadata": {},
     "output_type": "display_data"
    }
   ],
   "source": [
    "%%javascript\n",
    "// Disable auto-scrolling\n",
    "IPython.OutputArea.prototype._should_scroll = function(lines) {\n",
    "    return false;\n",
    "}"
   ]
  },
  {
   "cell_type": "code",
   "execution_count": 3,
   "metadata": {},
   "outputs": [
    {
     "name": "stdout",
     "output_type": "stream",
     "text": [
      "── Attaching core tidyverse packages ──────────────────────── tidyverse 2.0.0 ──\n",
      "✔ dplyr     1.1.4     ✔ readr     2.1.5\n",
      "✔ forcats   1.0.0     ✔ stringr   1.5.1\n",
      "✔ ggplot2   3.4.4     ✔ tibble    3.2.1\n",
      "✔ lubridate 1.9.3     ✔ tidyr     1.3.1\n",
      "✔ purrr     1.0.2     \n",
      "── Conflicts ────────────────────────────────────────── tidyverse_conflicts() ──\n",
      "✖ dplyr::filter() masks stats::filter()\n",
      "✖ dplyr::lag()    masks stats::lag()\n",
      "ℹ Use the conflicted package (<http://conflicted.r-lib.org/>) to force all conflicts to become errors\n"
     ]
    },
    {
     "data": {
      "text/plain": [
       "Loading required package: tidyverse\n"
      ]
     },
     "metadata": {},
     "output_type": "display_data"
    }
   ],
   "source": [
    "%%R\n",
    "\n",
    "# My commonly used R imports\n",
    "\n",
    "require('tidyverse')"
   ]
  },
  {
   "attachments": {},
   "cell_type": "markdown",
   "metadata": {},
   "source": [
    "## Load the data"
   ]
  },
  {
   "cell_type": "code",
   "execution_count": 4,
   "metadata": {},
   "outputs": [
    {
     "name": "stdout",
     "output_type": "stream",
     "text": [
      "# A tibble: 1,840 × 65\n",
      "   GEOIDCORRECT        NAME_x variable estimate Name  Location `Open Year-Round`\n",
      "   <chr>               <lgl>  <chr>    <lgl>    <lgl> <lgl>    <lgl>            \n",
      " 1 \"36061006900,\\\"Cen… NA     <NA>     NA       NA    NA       NA               \n",
      " 2 \"36061006900,\\\"Cen… NA     <NA>     NA       NA    NA       NA               \n",
      " 3 \"36061006900,\\\"Cen… NA     <NA>     NA       NA    NA       NA               \n",
      " 4 \"36061018300,\\\"Cen… NA     <NA>     NA       NA    NA       NA               \n",
      " 5 \"36061018300,\\\"Cen… NA     <NA>     NA       NA    NA       NA               \n",
      " 6 \"36061018300,\\\"Cen… NA     <NA>     NA       NA    NA       NA               \n",
      " 7 \"36005030000,\\\"Cen… NA     <NA>     NA       NA    NA       NA               \n",
      " 8 \"36005030000,\\\"Cen… NA     <NA>     NA       NA    NA       NA               \n",
      " 9 \"36005030000,\\\"Cen… NA     <NA>     NA       NA    NA       NA               \n",
      "10 \"36081083700,\\\"Cen… NA     <NA>     NA       NA    NA       NA               \n",
      "# ℹ 1,830 more rows\n",
      "# ℹ 58 more variables: `Handicap Accessible` <lgl>, Borough <lgl>,\n",
      "#   Comments <lgl>, Latitude <lgl>, Longitude <lgl>, SUFFIX <lgl>,\n",
      "#   POP100 <lgl>, GEOID <lgl>, CENTLAT <lgl>, BLOCK <lgl>, AREAWATER <lgl>,\n",
      "#   STATE <lgl>, BASENAME <lgl>, OID <lgl>, LSADC <lgl>, INTPTLAT <lgl>,\n",
      "#   FUNCSTAT <lgl>, NAME_y <lgl>, OBJECTID <lgl>, TRACT <lgl>, CENTLON <lgl>,\n",
      "#   BLKGRP <lgl>, AREALAND <lgl>, HU100 <lgl>, INTPTLON <lgl>, MTFCC <lgl>, …\n",
      "# ℹ Use `print(n = ...)` to see more rows\n"
     ]
    },
    {
     "data": {
      "text/plain": [
       "Además: Warning message:\n",
       "One or more parsing issues, call `problems()` on your data frame for details,\n",
       "e.g.:\n",
       "  dat <- vroom(...)\n",
       "  problems(dat) \n"
      ]
     },
     "metadata": {},
     "output_type": "display_data"
    }
   ],
   "source": [
    "%%R\n",
    " \n",
    "# Import data with R\n",
    "df <- read_csv('YES.csv', show_col_types = FALSE)\n",
    "df"
   ]
  },
  {
   "cell_type": "code",
   "execution_count": null,
   "metadata": {},
   "outputs": [],
   "source": [
    "# Import data in python\n",
    "#mtcars = pd.read_csv('mtcars.csv')\n",
    "#mtcars.head()"
   ]
  },
  {
   "attachments": {},
   "cell_type": "markdown",
   "metadata": {},
   "source": [
    "# Exploratory data analysis\n",
    "\n"
   ]
  },
  {
   "attachments": {},
   "cell_type": "markdown",
   "metadata": {},
   "source": [
    "## 2-D visualizations (aka scatter plots)\n",
    "\n",
    "It seems simple. It's not simple. mainly because...\n",
    "\n",
    "**CORRELATION =/= CAUSATION**\n",
    "\n",
    "Comparing variables to one another can be TRICKY!\n",
    "\n",
    "Let's make some 2-D visualizations (aka scatter plots).\n",
    "\n",
    "Be VERY careful how you phrase the headlines. Take time to think through what you want to say.\n",
    "\n",
    "\n"
   ]
  },
  {
   "cell_type": "code",
   "execution_count": 5,
   "metadata": {},
   "outputs": [],
   "source": [
    "%%R\n",
    "library(ggplot2)\n",
    "library(readr)\n"
   ]
  },
  {
   "cell_type": "code",
   "execution_count": 11,
   "metadata": {},
   "outputs": [
    {
     "ename": "RParsingError",
     "evalue": "Parsing status not OK - PARSING_STATUS.PARSE_ERROR",
     "output_type": "error",
     "traceback": [
      "\u001b[0;31m---------------------------------------------------------------------------\u001b[0m",
      "\u001b[0;31mRParsingError\u001b[0m                             Traceback (most recent call last)",
      "\u001b[1;32m/Users/carlamandiola/Desktop/connect-to-census/scatterplots.ipynb Cell 12\u001b[0m line \u001b[0;36m1\n\u001b[0;32m----> <a href='vscode-notebook-cell:/Users/carlamandiola/Desktop/connect-to-census/scatterplots.ipynb#X21sZmlsZQ%3D%3D?line=0'>1</a>\u001b[0m get_ipython()\u001b[39m.\u001b[39;49mrun_cell_magic(\u001b[39m'\u001b[39;49m\u001b[39mR\u001b[39;49m\u001b[39m'\u001b[39;49m, \u001b[39m'\u001b[39;49m\u001b[39m-w 1000 -h 1000\u001b[39;49m\u001b[39m'\u001b[39;49m, \u001b[39m'\u001b[39;49m\u001b[39m\\n\u001b[39;49;00m\u001b[39mggplot(toilets_df) + \u001b[39;49m\u001b[39m\\n\u001b[39;49;00m\u001b[39m    aes(x=Open Year-Round, y=borough) +\u001b[39;49m\u001b[39m\\n\u001b[39;49;00m\u001b[39m    geom_jitter(alpha=0.5) + \u001b[39;49m\u001b[39m\\n\u001b[39;49;00m\u001b[39m    # overlay a box and whisker plot that is transparent with no outliers and is red\u001b[39;49m\u001b[39m\\n\u001b[39;49;00m\u001b[39m    geom_boxplot(fill=NA, outlier.shape=NA, color=\u001b[39;49m\u001b[39m\"\u001b[39;49m\u001b[39mred\u001b[39;49m\u001b[39m\"\u001b[39;49m\u001b[39m) \u001b[39;49m\u001b[39m\\n\u001b[39;49;00m\u001b[39m'\u001b[39;49m)\n",
      "File \u001b[0;32m~/.pyenv/versions/3.11.6/lib/python3.11/site-packages/IPython/core/interactiveshell.py:2517\u001b[0m, in \u001b[0;36mInteractiveShell.run_cell_magic\u001b[0;34m(self, magic_name, line, cell)\u001b[0m\n\u001b[1;32m   2515\u001b[0m \u001b[39mwith\u001b[39;00m \u001b[39mself\u001b[39m\u001b[39m.\u001b[39mbuiltin_trap:\n\u001b[1;32m   2516\u001b[0m     args \u001b[39m=\u001b[39m (magic_arg_s, cell)\n\u001b[0;32m-> 2517\u001b[0m     result \u001b[39m=\u001b[39m fn(\u001b[39m*\u001b[39;49margs, \u001b[39m*\u001b[39;49m\u001b[39m*\u001b[39;49mkwargs)\n\u001b[1;32m   2519\u001b[0m \u001b[39m# The code below prevents the output from being displayed\u001b[39;00m\n\u001b[1;32m   2520\u001b[0m \u001b[39m# when using magics with decorator @output_can_be_silenced\u001b[39;00m\n\u001b[1;32m   2521\u001b[0m \u001b[39m# when the last Python token in the expression is a ';'.\u001b[39;00m\n\u001b[1;32m   2522\u001b[0m \u001b[39mif\u001b[39;00m \u001b[39mgetattr\u001b[39m(fn, magic\u001b[39m.\u001b[39mMAGIC_OUTPUT_CAN_BE_SILENCED, \u001b[39mFalse\u001b[39;00m):\n",
      "File \u001b[0;32m~/.pyenv/versions/3.11.6/lib/python3.11/site-packages/rpy2/ipython/rmagic.py:949\u001b[0m, in \u001b[0;36mRMagics.R\u001b[0;34m(self, line, cell, local_ns)\u001b[0m\n\u001b[1;32m    947\u001b[0m         return_output \u001b[39m=\u001b[39m \u001b[39mFalse\u001b[39;00m\n\u001b[1;32m    948\u001b[0m \u001b[39melse\u001b[39;00m:\n\u001b[0;32m--> 949\u001b[0m     text_result, result, visible \u001b[39m=\u001b[39m \u001b[39mself\u001b[39;49m\u001b[39m.\u001b[39;49meval(code)\n\u001b[1;32m    950\u001b[0m     text_output \u001b[39m+\u001b[39m\u001b[39m=\u001b[39m text_result\n\u001b[1;32m    951\u001b[0m     \u001b[39mif\u001b[39;00m visible:\n",
      "File \u001b[0;32m~/.pyenv/versions/3.11.6/lib/python3.11/site-packages/rpy2/ipython/rmagic.py:406\u001b[0m, in \u001b[0;36mRMagics.eval\u001b[0;34m(self, code)\u001b[0m\n\u001b[1;32m    398\u001b[0m stack\u001b[39m.\u001b[39menter_context(\n\u001b[1;32m    399\u001b[0m     obj_in_module(\n\u001b[1;32m    400\u001b[0m         rpy2\u001b[39m.\u001b[39mrinterface_lib\u001b[39m.\u001b[39mcallbacks,\n\u001b[1;32m    401\u001b[0m         \u001b[39m'\u001b[39m\u001b[39m_WRITECONSOLE_EXCEPTION_LOG\u001b[39m\u001b[39m'\u001b[39m,\n\u001b[1;32m    402\u001b[0m         \u001b[39m'\u001b[39m\u001b[39m%s\u001b[39;00m\u001b[39m'\u001b[39m)\n\u001b[1;32m    403\u001b[0m )\n\u001b[1;32m    404\u001b[0m \u001b[39mtry\u001b[39;00m:\n\u001b[1;32m    405\u001b[0m     \u001b[39m# Need the newline in case the last line in code is a comment.\u001b[39;00m\n\u001b[0;32m--> 406\u001b[0m     r_expr \u001b[39m=\u001b[39m ri\u001b[39m.\u001b[39;49mparse(code)\n\u001b[1;32m    407\u001b[0m     value, visible \u001b[39m=\u001b[39m ri\u001b[39m.\u001b[39mevalr_expr_with_visible(\n\u001b[1;32m    408\u001b[0m         r_expr\n\u001b[1;32m    409\u001b[0m     )\n\u001b[1;32m    410\u001b[0m \u001b[39mexcept\u001b[39;00m (ri\u001b[39m.\u001b[39membedded\u001b[39m.\u001b[39mRRuntimeError, \u001b[39mValueError\u001b[39;00m) \u001b[39mas\u001b[39;00m exception:\n\u001b[1;32m    411\u001b[0m     \u001b[39m# Otherwise next return seems to have copy of error.\u001b[39;00m\n",
      "File \u001b[0;32m~/.pyenv/versions/3.11.6/lib/python3.11/site-packages/rpy2/rinterface_lib/conversion.py:45\u001b[0m, in \u001b[0;36m_cdata_res_to_rinterface.<locals>._\u001b[0;34m(*args, **kwargs)\u001b[0m\n\u001b[1;32m     44\u001b[0m \u001b[39mdef\u001b[39;00m \u001b[39m_\u001b[39m(\u001b[39m*\u001b[39margs, \u001b[39m*\u001b[39m\u001b[39m*\u001b[39mkwargs):\n\u001b[0;32m---> 45\u001b[0m     cdata \u001b[39m=\u001b[39m function(\u001b[39m*\u001b[39;49margs, \u001b[39m*\u001b[39;49m\u001b[39m*\u001b[39;49mkwargs)\n\u001b[1;32m     46\u001b[0m     \u001b[39m# TODO: test cdata is of the expected CType\u001b[39;00m\n\u001b[1;32m     47\u001b[0m     \u001b[39mreturn\u001b[39;00m _cdata_to_rinterface(cdata)\n",
      "File \u001b[0;32m~/.pyenv/versions/3.11.6/lib/python3.11/site-packages/rpy2/rinterface.py:123\u001b[0m, in \u001b[0;36mparse\u001b[0;34m(text, num)\u001b[0m\n\u001b[1;32m    121\u001b[0m robj \u001b[39m=\u001b[39m StrSexpVector([text])\n\u001b[1;32m    122\u001b[0m \u001b[39mwith\u001b[39;00m memorymanagement\u001b[39m.\u001b[39mrmemory() \u001b[39mas\u001b[39;00m rmemory:\n\u001b[0;32m--> 123\u001b[0m     res \u001b[39m=\u001b[39m _rinterface\u001b[39m.\u001b[39;49m_parse(robj\u001b[39m.\u001b[39;49m__sexp__\u001b[39m.\u001b[39;49m_cdata, num, rmemory)\n\u001b[1;32m    124\u001b[0m \u001b[39mreturn\u001b[39;00m res\n",
      "File \u001b[0;32m~/.pyenv/versions/3.11.6/lib/python3.11/site-packages/rpy2/rinterface_lib/_rinterface_capi.py:720\u001b[0m, in \u001b[0;36m_parse\u001b[0;34m(cdata, num, rmemory)\u001b[0m\n\u001b[1;32m    713\u001b[0m \u001b[39m# TODO: design better handling of possible status:\u001b[39;00m\n\u001b[1;32m    714\u001b[0m \u001b[39m# PARSE_NULL,\u001b[39;00m\n\u001b[1;32m    715\u001b[0m \u001b[39m# PARSE_OK,\u001b[39;00m\n\u001b[1;32m    716\u001b[0m \u001b[39m# PARSE_INCOMPLETE,\u001b[39;00m\n\u001b[1;32m    717\u001b[0m \u001b[39m# PARSE_ERROR,\u001b[39;00m\n\u001b[1;32m    718\u001b[0m \u001b[39m# PARSE_EOF\u001b[39;00m\n\u001b[1;32m    719\u001b[0m \u001b[39mif\u001b[39;00m status[\u001b[39m0\u001b[39m] \u001b[39m!=\u001b[39m openrlib\u001b[39m.\u001b[39mrlib\u001b[39m.\u001b[39mPARSE_OK:\n\u001b[0;32m--> 720\u001b[0m     \u001b[39mraise\u001b[39;00m RParsingError(\u001b[39m'\u001b[39m\u001b[39mParsing status not OK\u001b[39m\u001b[39m'\u001b[39m,\n\u001b[1;32m    721\u001b[0m                         status\u001b[39m=\u001b[39mPARSING_STATUS(status[\u001b[39m0\u001b[39m]))\n\u001b[1;32m    722\u001b[0m \u001b[39mreturn\u001b[39;00m res\n",
      "\u001b[0;31mRParsingError\u001b[0m: Parsing status not OK - PARSING_STATUS.PARSE_ERROR"
     ]
    }
   ],
   "source": [
    "%%R -w 1000 -h 1000\n",
    "\n",
    "ggplot(toilets_df) + \n",
    "    aes(x=Open Year-Round, y=borough) +\n",
    "    geom_jitter(alpha=0.5) + \n",
    "    # overlay a box and whisker plot that is transparent with no outliers and is red\n",
    "    geom_boxplot(fill=NA, outlier.shape=NA, color=\"red\") "
   ]
  },
  {
   "cell_type": "code",
   "execution_count": 6,
   "metadata": {},
   "outputs": [
    {
     "name": "stdout",
     "output_type": "stream",
     "text": [
      "Rows: 1840 Columns: 65\n",
      "── Column specification ────────────────────────────────────────────────────────\n",
      "Delimiter: \",\"\n",
      "chr  (2): GEOIDCORRECT, variable\n",
      "lgl (63): NAME_x, estimate, Name, Location, Open Year-Round, Handicap Access...\n",
      "\n",
      "ℹ Use `spec()` to retrieve the full column specification for this data.\n",
      "ℹ Specify the column types or set `show_col_types = FALSE` to quiet this message.\n"
     ]
    },
    {
     "data": {
      "text/plain": [
       "Además: Warning message:\n",
       "One or more parsing issues, call `problems()` on your data frame for details,\n",
       "e.g.:\n",
       "  dat <- vroom(...)\n",
       "  problems(dat) \n"
      ]
     },
     "metadata": {},
     "output_type": "display_data"
    },
    {
     "data": {
      "image/png": "[encoded data removed]",
      "text/plain": [
       "<IPython.core.display.Image object>"
      ]
     },
     "metadata": {},
     "output_type": "display_data"
    }
   ],
   "source": [
    "%%R\n",
    "\n",
    "toilets_df <- read_csv(\"YES.csv\")\n",
    "\n",
    "\n",
    "toilets_df$`Open Year-Round` <- as.factor(toilets_df$`Open Year-Round`)\n",
    "\n",
    "\n",
    "ggplot(toilets_df, aes(x=Borough, fill=`Open Year-Round`)) +\n",
    "  geom_bar(position=\"dodge\") +\n",
    "  labs(title=\"Distribution of Toilets Open Year-Round by Borough\",\n",
    "       x=\"Borough\",\n",
    "       y=\"Count\") +\n",
    "  theme_minimal() +\n",
    "  scale_fill_manual(values=c(\"Yes\"=\"green\", \"No\"=\"red\"), name=\"Open Year-Round\") +\n",
    "  theme(axis.text.x = element_text(angle = 45, hjust = 1))\n",
    "\n"
   ]
  },
  {
   "cell_type": "code",
   "execution_count": 9,
   "metadata": {},
   "outputs": [
    {
     "name": "stdout",
     "output_type": "stream",
     "text": [
      "--- Please select a CRAN mirror for use in this session ---\n",
      "Secure CRAN mirrors \n",
      "\n",
      " 1: 0-Cloud [https]\n",
      " 2: Australia (Canberra) [https]\n",
      " 3: Australia (Melbourne 1) [https]\n",
      " 4: Australia (Melbourne 2) [https]\n",
      " 5: Austria [https]\n",
      " 6: Belgium (Brussels) [https]\n",
      " 7: Brazil (PR) [https]\n",
      " 8: Brazil (RJ) [https]\n",
      " 9: Brazil (SP 1) [https]\n",
      "10: Brazil (SP 2) [https]\n",
      "11: Bulgaria [https]\n",
      "12: Canada (MB) [https]\n",
      "13: Canada (ON) [https]\n",
      "14: Chile (Santiago) [https]\n",
      "15: China (Beijing 2) [https]\n",
      "16: China (Beijing 3) [https]\n",
      "17: China (Hefei) [https]\n",
      "18: China (Hong Kong) [https]\n",
      "19: China (Guangzhou) [https]\n",
      "20: China (Jinan) [https]\n",
      "21: China (Lanzhou) [https]\n",
      "22: China (Nanjing) [https]\n",
      "23: China (Shanghai 2) [https]\n",
      "24: China (Shenzhen) [https]\n",
      "25: Colombia (Cali) [https]\n",
      "26: Costa Rica [https]\n",
      "27: Czech Republic [https]\n",
      "28: Denmark [https]\n",
      "29: Ecuador (Cuenca) [https]\n",
      "30: France (Lyon 1) [https]\n",
      "31: France (Lyon 2) [https]\n",
      "32: France (Marseille) [https]\n",
      "33: France (Paris 1) [https]\n",
      "34: Germany (Erlangen) [https]\n",
      "35: Germany (Göttingen) [https]\n",
      "36: Germany (Leipzig) [https]\n",
      "37: Germany (Münster) [https]\n",
      "38: Greece [https]\n",
      "39: Iceland [https]\n",
      "40: India (Bengaluru) [https]\n",
      "41: India (Bhubaneswar) [https]\n",
      "42: Indonesia (Banda Aceh) [https]\n",
      "43: Iran (Mashhad) [https]\n",
      "44: Italy (Milano) [https]\n",
      "45: Italy (Padua) [https]\n",
      "46: Japan (Tokyo) [https]\n",
      "47: Japan (Yonezawa) [https]\n",
      "48: Korea (Gyeongsan-si) [https]\n",
      "49: Mexico (Mexico City) [https]\n",
      "50: Mexico (Texcoco) [https]\n",
      "51: Morocco [https]\n",
      "52: Netherlands (Dronten) [https]\n",
      "53: New Zealand [https]\n",
      "54: Norway [https]\n",
      "55: South Africa (Johannesburg) [https]\n",
      "56: Spain (A Coruña) [https]\n",
      "57: Spain (Madrid) [https]\n",
      "58: Sweden (Umeå) [https]\n",
      "59: Switzerland (Zurich 1) [https]\n",
      "60: Taiwan (Taipei) [https]\n",
      "61: Turkey (Denizli) [https]\n",
      "62: Turkey (Istanbul) [https]\n",
      "63: UK (Bristol) [https]\n",
      "64: UK (London 1) [https]\n",
      "65: USA (IA) [https]\n",
      "66: USA (MI) [https]\n",
      "67: USA (MO) [https]\n",
      "68: USA (OH) [https]\n",
      "69: USA (OR) [https]\n",
      "70: USA (TN) [https]\n",
      "71: United Arab Emirates [https]\n",
      "72: Uruguay [https]\n",
      "73: (other mirrors)\n",
      "\n"
     ]
    },
    {
     "name": "stderr",
     "output_type": "stream",
     "text": [
      "Durante la inicialización - Warning messages:\n",
      "1: Setting LC_TIME failed, using \"C\" \n",
      "2: Setting LC_MESSAGES failed, using \"C\" \n",
      "3: Setting LC_MONETARY failed, using \"C\" \n",
      "* installing *source* package ‘ggplot2’ ...\n",
      "** package ‘ggplot2’ successfully unpacked and MD5 sums checked\n",
      "** using staged installation\n",
      "** R\n",
      "** data\n",
      "*** moving datasets to lazyload DB\n",
      "** inst\n",
      "** byte-compile and prepare package for lazy loading\n"
     ]
    },
    {
     "name": "stdout",
     "output_type": "stream",
     "text": [
      "Durante la inicialización - Warning messages:\n",
      "1: Setting LC_TIME failed, using \"C\" \n",
      "2: Setting LC_MESSAGES failed, using \"C\" \n",
      "3: Setting LC_MONETARY failed, using \"C\" \n"
     ]
    },
    {
     "name": "stderr",
     "output_type": "stream",
     "text": [
      "** help\n",
      "*** installing help indices\n",
      "*** copying figures\n",
      "** building package indices\n"
     ]
    },
    {
     "name": "stdout",
     "output_type": "stream",
     "text": [
      "Durante la inicialización - Warning messages:\n",
      "1: Setting LC_TIME failed, using \"C\" \n",
      "2: Setting LC_MESSAGES failed, using \"C\" \n",
      "3: Setting LC_MONETARY failed, using \"C\" \n"
     ]
    },
    {
     "name": "stderr",
     "output_type": "stream",
     "text": [
      "** installing vignettes\n",
      "** testing if installed package can be loaded from temporary location\n"
     ]
    },
    {
     "name": "stdout",
     "output_type": "stream",
     "text": [
      "Durante la inicialización - Warning messages:\n",
      "1: Setting LC_TIME failed, using \"C\" \n",
      "2: Setting LC_MESSAGES failed, using \"C\" \n",
      "3: Setting LC_MONETARY failed, using \"C\" \n"
     ]
    },
    {
     "name": "stderr",
     "output_type": "stream",
     "text": [
      "** testing if installed package can be loaded from final location\n"
     ]
    },
    {
     "name": "stdout",
     "output_type": "stream",
     "text": [
      "Durante la inicialización - Warning messages:\n",
      "1: Setting LC_TIME failed, using \"C\" \n",
      "2: Setting LC_MESSAGES failed, using \"C\" \n",
      "3: Setting LC_MONETARY failed, using \"C\" \n"
     ]
    },
    {
     "name": "stderr",
     "output_type": "stream",
     "text": [
      "** testing if installed package keeps a record of temporary installation path\n",
      "* DONE (ggplot2)\n",
      "Durante la inicialización - Warning messages:\n",
      "1: Setting LC_TIME failed, using \"C\" \n",
      "2: Setting LC_MESSAGES failed, using \"C\" \n",
      "3: Setting LC_MONETARY failed, using \"C\" \n",
      "* installing *source* package ‘plyr’ ...\n",
      "** package ‘plyr’ successfully unpacked and MD5 sums checked\n",
      "** using staged installation\n",
      "** libs\n",
      "using C compiler: ‘Apple clang version 14.0.0 (clang-1400.0.29.202)’\n",
      "using C++ compiler: ‘Apple clang version 14.0.0 (clang-1400.0.29.202)’\n",
      "using SDK: ‘MacOSX13.1.sdk’\n"
     ]
    },
    {
     "name": "stdout",
     "output_type": "stream",
     "text": [
      "clang++ -std=gnu++17 -I\"/usr/local/Cellar/r/4.3.2/lib/R/include\" -DNDEBUG  -I'/usr/local/lib/R/4.3/site-library/Rcpp/include' -I/usr/local/opt/gettext/include -I/usr/local/opt/readline/include -I/usr/local/opt/xz/include -I/usr/local/include    -fPIC  -g -O2  -c RcppExports.cpp -o RcppExports.o\n",
      "clang -I\"/usr/local/Cellar/r/4.3.2/lib/R/include\" -DNDEBUG  -I'/usr/local/lib/R/4.3/site-library/Rcpp/include' -I/usr/local/opt/gettext/include -I/usr/local/opt/readline/include -I/usr/local/opt/xz/include -I/usr/local/include    -fPIC  -g -O2  -c loop_apply.c -o loop_apply.o\n",
      "clang++ -std=gnu++17 -I\"/usr/local/Cellar/r/4.3.2/lib/R/include\" -DNDEBUG  -I'/usr/local/lib/R/4.3/site-library/Rcpp/include' -I/usr/local/opt/gettext/include -I/usr/local/opt/readline/include -I/usr/local/opt/xz/include -I/usr/local/include    -fPIC  -g -O2  -c split-numeric.cpp -o split-numeric.o\n",
      "clang++ -std=gnu++17 -dynamiclib -Wl,-headerpad_max_install_names -undefined dynamic_lookup -L/usr/local/Cellar/r/4.3.2/lib/R/lib -L/usr/local/opt/gettext/lib -L/usr/local/opt/readline/lib -L/usr/local/opt/xz/lib -L/usr/local/lib -o plyr.so RcppExports.o loop_apply.o split-numeric.o -L/usr/local/Cellar/r/4.3.2/lib/R/lib -lR -lintl -Wl,-framework -Wl,CoreFoundation\n"
     ]
    },
    {
     "name": "stderr",
     "output_type": "stream",
     "text": [
      "ld: warning: -undefined dynamic_lookup may not work with chained fixups\n",
      "installing to /usr/local/lib/R/4.3/site-library/00LOCK-plyr/00new/plyr/libs\n",
      "** R\n",
      "** data\n",
      "*** moving datasets to lazyload DB\n",
      "** inst\n",
      "** byte-compile and prepare package for lazy loading\n"
     ]
    },
    {
     "name": "stdout",
     "output_type": "stream",
     "text": [
      "Durante la inicialización - Warning messages:\n",
      "1: Setting LC_TIME failed, using \"C\" \n",
      "2: Setting LC_MESSAGES failed, using \"C\" \n",
      "3: Setting LC_MONETARY failed, using \"C\" \n"
     ]
    },
    {
     "name": "stderr",
     "output_type": "stream",
     "text": [
      "** help\n",
      "*** installing help indices\n",
      "** building package indices\n"
     ]
    },
    {
     "name": "stdout",
     "output_type": "stream",
     "text": [
      "Durante la inicialización - Warning messages:\n",
      "1: Setting LC_TIME failed, using \"C\" \n",
      "2: Setting LC_MESSAGES failed, using \"C\" \n",
      "3: Setting LC_MONETARY failed, using \"C\" \n"
     ]
    },
    {
     "name": "stderr",
     "output_type": "stream",
     "text": [
      "** testing if installed package can be loaded from temporary location\n"
     ]
    },
    {
     "name": "stdout",
     "output_type": "stream",
     "text": [
      "Durante la inicialización - Warning messages:\n",
      "1: Setting LC_TIME failed, using \"C\" \n",
      "2: Setting LC_MESSAGES failed, using \"C\" \n",
      "3: Setting LC_MONETARY failed, using \"C\" \n"
     ]
    },
    {
     "name": "stderr",
     "output_type": "stream",
     "text": [
      "** checking absolute paths in shared objects and dynamic libraries\n",
      "** testing if installed package can be loaded from final location\n"
     ]
    },
    {
     "name": "stdout",
     "output_type": "stream",
     "text": [
      "Durante la inicialización - Warning messages:\n",
      "1: Setting LC_TIME failed, using \"C\" \n",
      "2: Setting LC_MESSAGES failed, using \"C\" \n",
      "3: Setting LC_MONETARY failed, using \"C\" \n"
     ]
    },
    {
     "name": "stderr",
     "output_type": "stream",
     "text": [
      "** testing if installed package keeps a record of temporary installation path\n",
      "* DONE (plyr)\n",
      "Durante la inicialización - Warning messages:\n",
      "1: Setting LC_TIME failed, using \"C\" \n",
      "2: Setting LC_MESSAGES failed, using \"C\" \n",
      "3: Setting LC_MONETARY failed, using \"C\" \n",
      "* installing *source* package ‘jpeg’ ...\n",
      "** package ‘jpeg’ successfully unpacked and MD5 sums checked\n",
      "** using staged installation\n",
      "** libs\n",
      "using C compiler: ‘Apple clang version 14.0.0 (clang-1400.0.29.202)’\n",
      "using SDK: ‘MacOSX13.1.sdk’\n"
     ]
    },
    {
     "name": "stdout",
     "output_type": "stream",
     "text": [
      "clang -I\"/usr/local/Cellar/r/4.3.2/lib/R/include\" -DNDEBUG   -I/usr/local/opt/gettext/include -I/usr/local/opt/readline/include -I/usr/local/opt/xz/include -I/usr/local/include    -fPIC  -g -O2  -c read.c -o read.o\n",
      "clang -I\"/usr/local/Cellar/r/4.3.2/lib/R/include\" -DNDEBUG   -I/usr/local/opt/gettext/include -I/usr/local/opt/readline/include -I/usr/local/opt/xz/include -I/usr/local/include    -fPIC  -g -O2  -c reg.c -o reg.o\n",
      "clang -I\"/usr/local/Cellar/r/4.3.2/lib/R/include\" -DNDEBUG   -I/usr/local/opt/gettext/include -I/usr/local/opt/readline/include -I/usr/local/opt/xz/include -I/usr/local/include    -fPIC  -g -O2  -c write.c -o write.o\n",
      "clang -dynamiclib -Wl,-headerpad_max_install_names -undefined dynamic_lookup -L/usr/local/Cellar/r/4.3.2/lib/R/lib -L/usr/local/opt/gettext/lib -L/usr/local/opt/readline/lib -L/usr/local/opt/xz/lib -L/usr/local/lib -o jpeg.so read.o reg.o write.o -ljpeg -L/usr/local/Cellar/r/4.3.2/lib/R/lib -lR -lintl -Wl,-framework -Wl,CoreFoundation\n"
     ]
    },
    {
     "name": "stderr",
     "output_type": "stream",
     "text": [
      "ld: warning: -undefined dynamic_lookup may not work with chained fixups\n",
      "installing to /usr/local/lib/R/4.3/site-library/00LOCK-jpeg/00new/jpeg/libs\n",
      "** R\n",
      "** inst\n",
      "** byte-compile and prepare package for lazy loading\n"
     ]
    },
    {
     "name": "stdout",
     "output_type": "stream",
     "text": [
      "Durante la inicialización - Warning messages:\n",
      "1: Setting LC_TIME failed, using \"C\" \n",
      "2: Setting LC_MESSAGES failed, using \"C\" \n",
      "3: Setting LC_MONETARY failed, using \"C\" \n"
     ]
    },
    {
     "name": "stderr",
     "output_type": "stream",
     "text": [
      "** help\n",
      "*** installing help indices\n",
      "** building package indices\n"
     ]
    },
    {
     "name": "stdout",
     "output_type": "stream",
     "text": [
      "Durante la inicialización - Warning messages:\n",
      "1: Setting LC_TIME failed, using \"C\" \n",
      "2: Setting LC_MESSAGES failed, using \"C\" \n",
      "3: Setting LC_MONETARY failed, using \"C\" \n"
     ]
    },
    {
     "name": "stderr",
     "output_type": "stream",
     "text": [
      "** testing if installed package can be loaded from temporary location\n"
     ]
    },
    {
     "name": "stdout",
     "output_type": "stream",
     "text": [
      "Durante la inicialización - Warning messages:\n",
      "1: Setting LC_TIME failed, using \"C\" \n",
      "2: Setting LC_MESSAGES failed, using \"C\" \n",
      "3: Setting LC_MONETARY failed, using \"C\" \n"
     ]
    },
    {
     "name": "stderr",
     "output_type": "stream",
     "text": [
      "** checking absolute paths in shared objects and dynamic libraries\n",
      "** testing if installed package can be loaded from final location\n"
     ]
    },
    {
     "name": "stdout",
     "output_type": "stream",
     "text": [
      "Durante la inicialización - Warning messages:\n",
      "1: Setting LC_TIME failed, using \"C\" \n",
      "2: Setting LC_MESSAGES failed, using \"C\" \n",
      "3: Setting LC_MONETARY failed, using \"C\" \n"
     ]
    },
    {
     "name": "stderr",
     "output_type": "stream",
     "text": [
      "** testing if installed package keeps a record of temporary installation path\n",
      "* DONE (jpeg)\n",
      "Durante la inicialización - Warning messages:\n",
      "1: Setting LC_TIME failed, using \"C\" \n",
      "2: Setting LC_MESSAGES failed, using \"C\" \n",
      "3: Setting LC_MONETARY failed, using \"C\" \n",
      "* installing *source* package ‘bitops’ ...\n",
      "** package ‘bitops’ successfully unpacked and MD5 sums checked\n",
      "** using staged installation\n",
      "** libs\n",
      "using C compiler: ‘Apple clang version 14.0.0 (clang-1400.0.29.202)’\n",
      "using SDK: ‘MacOSX13.1.sdk’\n"
     ]
    },
    {
     "name": "stdout",
     "output_type": "stream",
     "text": [
      "clang -I\"/usr/local/Cellar/r/4.3.2/lib/R/include\" -DNDEBUG   -I/usr/local/opt/gettext/include -I/usr/local/opt/readline/include -I/usr/local/opt/xz/include -I/usr/local/include    -fPIC  -g -O2  -c bit-ops.c -o bit-ops.o\n",
      "clang -I\"/usr/local/Cellar/r/4.3.2/lib/R/include\" -DNDEBUG   -I/usr/local/opt/gettext/include -I/usr/local/opt/readline/include -I/usr/local/opt/xz/include -I/usr/local/include    -fPIC  -g -O2  -c cksum.c -o cksum.o\n",
      "clang -I\"/usr/local/Cellar/r/4.3.2/lib/R/include\" -DNDEBUG   -I/usr/local/opt/gettext/include -I/usr/local/opt/readline/include -I/usr/local/opt/xz/include -I/usr/local/include    -fPIC  -g -O2  -c init.c -o init.o\n",
      "clang -dynamiclib -Wl,-headerpad_max_install_names -undefined dynamic_lookup -L/usr/local/Cellar/r/4.3.2/lib/R/lib -L/usr/local/opt/gettext/lib -L/usr/local/opt/readline/lib -L/usr/local/opt/xz/lib -L/usr/local/lib -o bitops.so bit-ops.o cksum.o init.o -L/usr/local/Cellar/r/4.3.2/lib/R/lib -lR -lintl -Wl,-framework -Wl,CoreFoundation\n"
     ]
    },
    {
     "name": "stderr",
     "output_type": "stream",
     "text": [
      "ld: warning: -undefined dynamic_lookup may not work with chained fixups\n",
      "installing to /usr/local/lib/R/4.3/site-library/00LOCK-bitops/00new/bitops/libs\n",
      "** R\n",
      "** byte-compile and prepare package for lazy loading\n"
     ]
    },
    {
     "name": "stdout",
     "output_type": "stream",
     "text": [
      "Durante la inicialización - Warning messages:\n",
      "1: Setting LC_TIME failed, using \"C\" \n",
      "2: Setting LC_MESSAGES failed, using \"C\" \n",
      "3: Setting LC_MONETARY failed, using \"C\" \n"
     ]
    },
    {
     "name": "stderr",
     "output_type": "stream",
     "text": [
      "** help\n",
      "*** installing help indices\n",
      "** building package indices\n"
     ]
    },
    {
     "name": "stdout",
     "output_type": "stream",
     "text": [
      "Durante la inicialización - Warning messages:\n",
      "1: Setting LC_TIME failed, using \"C\" \n",
      "2: Setting LC_MESSAGES failed, using \"C\" \n",
      "3: Setting LC_MONETARY failed, using \"C\" \n"
     ]
    },
    {
     "name": "stderr",
     "output_type": "stream",
     "text": [
      "** testing if installed package can be loaded from temporary location\n"
     ]
    },
    {
     "name": "stdout",
     "output_type": "stream",
     "text": [
      "Durante la inicialización - Warning messages:\n",
      "1: Setting LC_TIME failed, using \"C\" \n",
      "2: Setting LC_MESSAGES failed, using \"C\" \n",
      "3: Setting LC_MONETARY failed, using \"C\" \n"
     ]
    },
    {
     "name": "stderr",
     "output_type": "stream",
     "text": [
      "** checking absolute paths in shared objects and dynamic libraries\n",
      "** testing if installed package can be loaded from final location\n"
     ]
    },
    {
     "name": "stdout",
     "output_type": "stream",
     "text": [
      "Durante la inicialización - Warning messages:\n",
      "1: Setting LC_TIME failed, using \"C\" \n",
      "2: Setting LC_MESSAGES failed, using \"C\" \n",
      "3: Setting LC_MONETARY failed, using \"C\" \n"
     ]
    },
    {
     "name": "stderr",
     "output_type": "stream",
     "text": [
      "** testing if installed package keeps a record of temporary installation path\n",
      "* DONE (bitops)\n",
      "Durante la inicialización - Warning messages:\n",
      "1: Setting LC_TIME failed, using \"C\" \n",
      "2: Setting LC_MESSAGES failed, using \"C\" \n",
      "3: Setting LC_MONETARY failed, using \"C\" \n",
      "* installing *source* package ‘ggmap’ ...\n",
      "** package ‘ggmap’ successfully unpacked and MD5 sums checked\n",
      "** using staged installation\n",
      "** R\n",
      "** data\n",
      "*** moving datasets to lazyload DB\n",
      "** inst\n",
      "** byte-compile and prepare package for lazy loading\n"
     ]
    },
    {
     "name": "stdout",
     "output_type": "stream",
     "text": [
      "Durante la inicialización - Warning messages:\n",
      "1: Setting LC_TIME failed, using \"C\" \n",
      "2: Setting LC_MESSAGES failed, using \"C\" \n",
      "3: Setting LC_MONETARY failed, using \"C\" \n"
     ]
    },
    {
     "name": "stderr",
     "output_type": "stream",
     "text": [
      "** help\n",
      "*** installing help indices\n",
      "** building package indices\n"
     ]
    },
    {
     "name": "stdout",
     "output_type": "stream",
     "text": [
      "Durante la inicialización - Warning messages:\n",
      "1: Setting LC_TIME failed, using \"C\" \n",
      "2: Setting LC_MESSAGES failed, using \"C\" \n",
      "3: Setting LC_MONETARY failed, using \"C\" \n"
     ]
    },
    {
     "name": "stderr",
     "output_type": "stream",
     "text": [
      "** testing if installed package can be loaded from temporary location\n"
     ]
    },
    {
     "name": "stdout",
     "output_type": "stream",
     "text": [
      "Durante la inicialización - Warning messages:\n",
      "1: Setting LC_TIME failed, using \"C\" \n",
      "2: Setting LC_MESSAGES failed, using \"C\" \n",
      "3: Setting LC_MONETARY failed, using \"C\" \n"
     ]
    },
    {
     "name": "stderr",
     "output_type": "stream",
     "text": [
      "** testing if installed package can be loaded from final location\n"
     ]
    },
    {
     "name": "stdout",
     "output_type": "stream",
     "text": [
      "Durante la inicialización - Warning messages:\n",
      "1: Setting LC_TIME failed, using \"C\" \n",
      "2: Setting LC_MESSAGES failed, using \"C\" \n",
      "3: Setting LC_MONETARY failed, using \"C\" \n"
     ]
    },
    {
     "name": "stderr",
     "output_type": "stream",
     "text": [
      "** testing if installed package keeps a record of temporary installation path\n",
      "* DONE (ggmap)\n",
      "Durante la inicialización - Warning messages:\n",
      "1: Setting LC_TIME failed, using \"C\" \n",
      "2: Setting LC_MESSAGES failed, using \"C\" \n",
      "3: Setting LC_MONETARY failed, using \"C\" \n",
      "* installing *source* package ‘sf’ ...\n",
      "** package ‘sf’ successfully unpacked and MD5 sums checked\n",
      "** using staged installation\n"
     ]
    },
    {
     "name": "stdout",
     "output_type": "stream",
     "text": [
      "configure: CC: clang\n",
      "configure: CXX: clang++ -std=gnu++17\n",
      "checking for gdal-config... /usr/local/bin/gdal-config\n",
      "checking gdal-config usability... yes\n",
      "configure: GDAL: 3.8.3\n",
      "checking GDAL version >= 2.0.1... yes\n",
      "checking for gcc... clang\n",
      "checking whether the C compiler works... yes\n",
      "checking for C compiler default output file name... a.out\n",
      "checking for suffix of executables... \n",
      "checking whether we are cross compiling... no\n",
      "checking for suffix of object files... o\n",
      "checking whether the compiler supports GNU C... yes\n",
      "checking whether clang accepts -g... yes\n",
      "checking for clang option to enable C11 features... none needed\n",
      "checking for stdio.h... yes\n",
      "checking for stdlib.h... yes\n",
      "checking for string.h... yes\n",
      "checking for inttypes.h... yes\n",
      "checking for stdint.h... yes\n",
      "checking for strings.h... yes\n",
      "checking for sys/stat.h... yes\n",
      "checking for sys/types.h... yes\n",
      "checking for unistd.h... yes\n",
      "checking for gdal.h... yes\n",
      "checking GDAL: linking with --libs only... yes\n",
      "checking GDAL: /usr/local/Cellar/gdal/3.8.3_1/share/gdal/pcs.csv readable... no\n",
      "checking GDAL: checking whether PROJ is available for linking:... yes\n",
      "checking GDAL: checking whether PROJ is available for running:... yes\n",
      "configure: GDAL: 3.8.3\n",
      "configure: pkg-config proj exists, will use it\n",
      "configure: using proj.h.\n",
      "configure: PROJ: 9.3.1\n",
      "checking PROJ: checking whether PROJ and sqlite3 are available for linking:... yes\n",
      "checking for geos-config... /usr/local/bin/geos-config\n",
      "checking geos-config usability... yes\n",
      "configure: GEOS: 3.12.1\n",
      "checking GEOS version >= 3.4.0... yes\n",
      "checking for geos_c.h... yes\n",
      "checking geos: linking with -L/usr/local/Cellar/geos/3.12.1/lib -lgeos_c... yes\n",
      "configure: Package CPP flags:  -I/usr/local/Cellar/proj/9.3.1/include -I/usr/local/Cellar/libtiff/4.6.0/include -I/usr/local/opt/zstd/include -I/usr/local/Cellar/xz/5.4.5/include -I/usr/local/Cellar/jpeg-turbo/3.0.1/include -DHAVE_PROJ_H -I/usr/local/Cellar/gdal/3.8.3_1/include -I/usr/local/Cellar/geos/3.12.1/include\n",
      "configure: Package LIBS: -L/usr/local/Cellar/proj/9.3.1/lib -L/usr/local/Cellar/libtiff/4.6.0/lib -L/usr/local/opt/zstd/lib -L/usr/local/Cellar/xz/5.4.5/lib -L/usr/local/Cellar/jpeg-turbo/3.0.1/lib -lproj -lc++ -lm -ldl -lsqlite3 -ltiff -lzstd -llzma -ljpeg -lz -lzstd -llzma -pthread -lpthread -ljpeg -lz -lcurl -lldap -lz   -L/usr/local/Cellar/gdal/3.8.3_1/lib -lgdal -L/usr/local/Cellar/geos/3.12.1/lib -lgeos_c\n",
      "configure: creating ./config.status\n",
      "config.status: creating src/Makevars\n"
     ]
    },
    {
     "name": "stderr",
     "output_type": "stream",
     "text": [
      "** libs\n",
      "using C++ compiler: ‘Apple clang version 14.0.0 (clang-1400.0.29.202)’\n",
      "using SDK: ‘MacOSX13.1.sdk’\n"
     ]
    },
    {
     "name": "stdout",
     "output_type": "stream",
     "text": [
      "clang++ -std=gnu++17 -I\"/usr/local/Cellar/r/4.3.2/lib/R/include\" -DNDEBUG -I/usr/local/Cellar/proj/9.3.1/include -I/usr/local/Cellar/libtiff/4.6.0/include -I/usr/local/opt/zstd/include -I/usr/local/Cellar/xz/5.4.5/include -I/usr/local/Cellar/jpeg-turbo/3.0.1/include -DHAVE_PROJ_H -I/usr/local/Cellar/gdal/3.8.3_1/include -I/usr/local/Cellar/geos/3.12.1/include -I'/usr/local/lib/R/4.3/site-library/Rcpp/include' -I/usr/local/opt/gettext/include -I/usr/local/opt/readline/include -I/usr/local/opt/xz/include -I/usr/local/include    -fPIC  -g -O2  -c RcppExports.cpp -o RcppExports.o\n",
      "clang++ -std=gnu++17 -I\"/usr/local/Cellar/r/4.3.2/lib/R/include\" -DNDEBUG -I/usr/local/Cellar/proj/9.3.1/include -I/usr/local/Cellar/libtiff/4.6.0/include -I/usr/local/opt/zstd/include -I/usr/local/Cellar/xz/5.4.5/include -I/usr/local/Cellar/jpeg-turbo/3.0.1/include -DHAVE_PROJ_H -I/usr/local/Cellar/gdal/3.8.3_1/include -I/usr/local/Cellar/geos/3.12.1/include -I'/usr/local/lib/R/4.3/site-library/Rcpp/include' -I/usr/local/opt/gettext/include -I/usr/local/opt/readline/include -I/usr/local/opt/xz/include -I/usr/local/include    -fPIC  -g -O2  -c bbox.cpp -o bbox.o\n",
      "clang++ -std=gnu++17 -I\"/usr/local/Cellar/r/4.3.2/lib/R/include\" -DNDEBUG -I/usr/local/Cellar/proj/9.3.1/include -I/usr/local/Cellar/libtiff/4.6.0/include -I/usr/local/opt/zstd/include -I/usr/local/Cellar/xz/5.4.5/include -I/usr/local/Cellar/jpeg-turbo/3.0.1/include -DHAVE_PROJ_H -I/usr/local/Cellar/gdal/3.8.3_1/include -I/usr/local/Cellar/geos/3.12.1/include -I'/usr/local/lib/R/4.3/site-library/Rcpp/include' -I/usr/local/opt/gettext/include -I/usr/local/opt/readline/include -I/usr/local/opt/xz/include -I/usr/local/include    -fPIC  -g -O2  -c gdal.cpp -o gdal.o\n",
      "clang++ -std=gnu++17 -I\"/usr/local/Cellar/r/4.3.2/lib/R/include\" -DNDEBUG -I/usr/local/Cellar/proj/9.3.1/include -I/usr/local/Cellar/libtiff/4.6.0/include -I/usr/local/opt/zstd/include -I/usr/local/Cellar/xz/5.4.5/include -I/usr/local/Cellar/jpeg-turbo/3.0.1/include -DHAVE_PROJ_H -I/usr/local/Cellar/gdal/3.8.3_1/include -I/usr/local/Cellar/geos/3.12.1/include -I'/usr/local/lib/R/4.3/site-library/Rcpp/include' -I/usr/local/opt/gettext/include -I/usr/local/opt/readline/include -I/usr/local/opt/xz/include -I/usr/local/include    -fPIC  -g -O2  -c gdal_geom.cpp -o gdal_geom.o\n",
      "clang++ -std=gnu++17 -I\"/usr/local/Cellar/r/4.3.2/lib/R/include\" -DNDEBUG -I/usr/local/Cellar/proj/9.3.1/include -I/usr/local/Cellar/libtiff/4.6.0/include -I/usr/local/opt/zstd/include -I/usr/local/Cellar/xz/5.4.5/include -I/usr/local/Cellar/jpeg-turbo/3.0.1/include -DHAVE_PROJ_H -I/usr/local/Cellar/gdal/3.8.3_1/include -I/usr/local/Cellar/geos/3.12.1/include -I'/usr/local/lib/R/4.3/site-library/Rcpp/include' -I/usr/local/opt/gettext/include -I/usr/local/opt/readline/include -I/usr/local/opt/xz/include -I/usr/local/include    -fPIC  -g -O2  -c gdal_read.cpp -o gdal_read.o\n",
      "clang++ -std=gnu++17 -I\"/usr/local/Cellar/r/4.3.2/lib/R/include\" -DNDEBUG -I/usr/local/Cellar/proj/9.3.1/include -I/usr/local/Cellar/libtiff/4.6.0/include -I/usr/local/opt/zstd/include -I/usr/local/Cellar/xz/5.4.5/include -I/usr/local/Cellar/jpeg-turbo/3.0.1/include -DHAVE_PROJ_H -I/usr/local/Cellar/gdal/3.8.3_1/include -I/usr/local/Cellar/geos/3.12.1/include -I'/usr/local/lib/R/4.3/site-library/Rcpp/include' -I/usr/local/opt/gettext/include -I/usr/local/opt/readline/include -I/usr/local/opt/xz/include -I/usr/local/include    -fPIC  -g -O2  -c gdal_read_stream.cpp -o gdal_read_stream.o\n",
      "clang++ -std=gnu++17 -I\"/usr/local/Cellar/r/4.3.2/lib/R/include\" -DNDEBUG -I/usr/local/Cellar/proj/9.3.1/include -I/usr/local/Cellar/libtiff/4.6.0/include -I/usr/local/opt/zstd/include -I/usr/local/Cellar/xz/5.4.5/include -I/usr/local/Cellar/jpeg-turbo/3.0.1/include -DHAVE_PROJ_H -I/usr/local/Cellar/gdal/3.8.3_1/include -I/usr/local/Cellar/geos/3.12.1/include -I'/usr/local/lib/R/4.3/site-library/Rcpp/include' -I/usr/local/opt/gettext/include -I/usr/local/opt/readline/include -I/usr/local/opt/xz/include -I/usr/local/include    -fPIC  -g -O2  -c gdal_utils.cpp -o gdal_utils.o\n",
      "clang++ -std=gnu++17 -I\"/usr/local/Cellar/r/4.3.2/lib/R/include\" -DNDEBUG -I/usr/local/Cellar/proj/9.3.1/include -I/usr/local/Cellar/libtiff/4.6.0/include -I/usr/local/opt/zstd/include -I/usr/local/Cellar/xz/5.4.5/include -I/usr/local/Cellar/jpeg-turbo/3.0.1/include -DHAVE_PROJ_H -I/usr/local/Cellar/gdal/3.8.3_1/include -I/usr/local/Cellar/geos/3.12.1/include -I'/usr/local/lib/R/4.3/site-library/Rcpp/include' -I/usr/local/opt/gettext/include -I/usr/local/opt/readline/include -I/usr/local/opt/xz/include -I/usr/local/include    -fPIC  -g -O2  -c gdal_write.cpp -o gdal_write.o\n",
      "clang++ -std=gnu++17 -I\"/usr/local/Cellar/r/4.3.2/lib/R/include\" -DNDEBUG -I/usr/local/Cellar/proj/9.3.1/include -I/usr/local/Cellar/libtiff/4.6.0/include -I/usr/local/opt/zstd/include -I/usr/local/Cellar/xz/5.4.5/include -I/usr/local/Cellar/jpeg-turbo/3.0.1/include -DHAVE_PROJ_H -I/usr/local/Cellar/gdal/3.8.3_1/include -I/usr/local/Cellar/geos/3.12.1/include -I'/usr/local/lib/R/4.3/site-library/Rcpp/include' -I/usr/local/opt/gettext/include -I/usr/local/opt/readline/include -I/usr/local/opt/xz/include -I/usr/local/include    -fPIC  -g -O2  -c geos.cpp -o geos.o\n",
      "clang++ -std=gnu++17 -I\"/usr/local/Cellar/r/4.3.2/lib/R/include\" -DNDEBUG -I/usr/local/Cellar/proj/9.3.1/include -I/usr/local/Cellar/libtiff/4.6.0/include -I/usr/local/opt/zstd/include -I/usr/local/Cellar/xz/5.4.5/include -I/usr/local/Cellar/jpeg-turbo/3.0.1/include -DHAVE_PROJ_H -I/usr/local/Cellar/gdal/3.8.3_1/include -I/usr/local/Cellar/geos/3.12.1/include -I'/usr/local/lib/R/4.3/site-library/Rcpp/include' -I/usr/local/opt/gettext/include -I/usr/local/opt/readline/include -I/usr/local/opt/xz/include -I/usr/local/include    -fPIC  -g -O2  -c hex.cpp -o hex.o\n",
      "clang++ -std=gnu++17 -I\"/usr/local/Cellar/r/4.3.2/lib/R/include\" -DNDEBUG -I/usr/local/Cellar/proj/9.3.1/include -I/usr/local/Cellar/libtiff/4.6.0/include -I/usr/local/opt/zstd/include -I/usr/local/Cellar/xz/5.4.5/include -I/usr/local/Cellar/jpeg-turbo/3.0.1/include -DHAVE_PROJ_H -I/usr/local/Cellar/gdal/3.8.3_1/include -I/usr/local/Cellar/geos/3.12.1/include -I'/usr/local/lib/R/4.3/site-library/Rcpp/include' -I/usr/local/opt/gettext/include -I/usr/local/opt/readline/include -I/usr/local/opt/xz/include -I/usr/local/include    -fPIC  -g -O2  -c mdim.cpp -o mdim.o\n",
      "clang++ -std=gnu++17 -I\"/usr/local/Cellar/r/4.3.2/lib/R/include\" -DNDEBUG -I/usr/local/Cellar/proj/9.3.1/include -I/usr/local/Cellar/libtiff/4.6.0/include -I/usr/local/opt/zstd/include -I/usr/local/Cellar/xz/5.4.5/include -I/usr/local/Cellar/jpeg-turbo/3.0.1/include -DHAVE_PROJ_H -I/usr/local/Cellar/gdal/3.8.3_1/include -I/usr/local/Cellar/geos/3.12.1/include -I'/usr/local/lib/R/4.3/site-library/Rcpp/include' -I/usr/local/opt/gettext/include -I/usr/local/opt/readline/include -I/usr/local/opt/xz/include -I/usr/local/include    -fPIC  -g -O2  -c ops.cpp -o ops.o\n",
      "clang++ -std=gnu++17 -I\"/usr/local/Cellar/r/4.3.2/lib/R/include\" -DNDEBUG -I/usr/local/Cellar/proj/9.3.1/include -I/usr/local/Cellar/libtiff/4.6.0/include -I/usr/local/opt/zstd/include -I/usr/local/Cellar/xz/5.4.5/include -I/usr/local/Cellar/jpeg-turbo/3.0.1/include -DHAVE_PROJ_H -I/usr/local/Cellar/gdal/3.8.3_1/include -I/usr/local/Cellar/geos/3.12.1/include -I'/usr/local/lib/R/4.3/site-library/Rcpp/include' -I/usr/local/opt/gettext/include -I/usr/local/opt/readline/include -I/usr/local/opt/xz/include -I/usr/local/include    -fPIC  -g -O2  -c polygonize.cpp -o polygonize.o\n",
      "clang++ -std=gnu++17 -I\"/usr/local/Cellar/r/4.3.2/lib/R/include\" -DNDEBUG -I/usr/local/Cellar/proj/9.3.1/include -I/usr/local/Cellar/libtiff/4.6.0/include -I/usr/local/opt/zstd/include -I/usr/local/Cellar/xz/5.4.5/include -I/usr/local/Cellar/jpeg-turbo/3.0.1/include -DHAVE_PROJ_H -I/usr/local/Cellar/gdal/3.8.3_1/include -I/usr/local/Cellar/geos/3.12.1/include -I'/usr/local/lib/R/4.3/site-library/Rcpp/include' -I/usr/local/opt/gettext/include -I/usr/local/opt/readline/include -I/usr/local/opt/xz/include -I/usr/local/include    -fPIC  -g -O2  -c proj.cpp -o proj.o\n",
      "clang++ -std=gnu++17 -I\"/usr/local/Cellar/r/4.3.2/lib/R/include\" -DNDEBUG -I/usr/local/Cellar/proj/9.3.1/include -I/usr/local/Cellar/libtiff/4.6.0/include -I/usr/local/opt/zstd/include -I/usr/local/Cellar/xz/5.4.5/include -I/usr/local/Cellar/jpeg-turbo/3.0.1/include -DHAVE_PROJ_H -I/usr/local/Cellar/gdal/3.8.3_1/include -I/usr/local/Cellar/geos/3.12.1/include -I'/usr/local/lib/R/4.3/site-library/Rcpp/include' -I/usr/local/opt/gettext/include -I/usr/local/opt/readline/include -I/usr/local/opt/xz/include -I/usr/local/include    -fPIC  -g -O2  -c proj_info.cpp -o proj_info.o\n",
      "clang++ -std=gnu++17 -I\"/usr/local/Cellar/r/4.3.2/lib/R/include\" -DNDEBUG -I/usr/local/Cellar/proj/9.3.1/include -I/usr/local/Cellar/libtiff/4.6.0/include -I/usr/local/opt/zstd/include -I/usr/local/Cellar/xz/5.4.5/include -I/usr/local/Cellar/jpeg-turbo/3.0.1/include -DHAVE_PROJ_H -I/usr/local/Cellar/gdal/3.8.3_1/include -I/usr/local/Cellar/geos/3.12.1/include -I'/usr/local/lib/R/4.3/site-library/Rcpp/include' -I/usr/local/opt/gettext/include -I/usr/local/opt/readline/include -I/usr/local/opt/xz/include -I/usr/local/include    -fPIC  -g -O2  -c raster2sf.cpp -o raster2sf.o\n",
      "clang++ -std=gnu++17 -I\"/usr/local/Cellar/r/4.3.2/lib/R/include\" -DNDEBUG -I/usr/local/Cellar/proj/9.3.1/include -I/usr/local/Cellar/libtiff/4.6.0/include -I/usr/local/opt/zstd/include -I/usr/local/Cellar/xz/5.4.5/include -I/usr/local/Cellar/jpeg-turbo/3.0.1/include -DHAVE_PROJ_H -I/usr/local/Cellar/gdal/3.8.3_1/include -I/usr/local/Cellar/geos/3.12.1/include -I'/usr/local/lib/R/4.3/site-library/Rcpp/include' -I/usr/local/opt/gettext/include -I/usr/local/opt/readline/include -I/usr/local/opt/xz/include -I/usr/local/include    -fPIC  -g -O2  -c sfc-sfg.cpp -o sfc-sfg.o\n",
      "clang++ -std=gnu++17 -I\"/usr/local/Cellar/r/4.3.2/lib/R/include\" -DNDEBUG -I/usr/local/Cellar/proj/9.3.1/include -I/usr/local/Cellar/libtiff/4.6.0/include -I/usr/local/opt/zstd/include -I/usr/local/Cellar/xz/5.4.5/include -I/usr/local/Cellar/jpeg-turbo/3.0.1/include -DHAVE_PROJ_H -I/usr/local/Cellar/gdal/3.8.3_1/include -I/usr/local/Cellar/geos/3.12.1/include -I'/usr/local/lib/R/4.3/site-library/Rcpp/include' -I/usr/local/opt/gettext/include -I/usr/local/opt/readline/include -I/usr/local/opt/xz/include -I/usr/local/include    -fPIC  -g -O2  -c signed_area.cpp -o signed_area.o\n",
      "clang++ -std=gnu++17 -I\"/usr/local/Cellar/r/4.3.2/lib/R/include\" -DNDEBUG -I/usr/local/Cellar/proj/9.3.1/include -I/usr/local/Cellar/libtiff/4.6.0/include -I/usr/local/opt/zstd/include -I/usr/local/Cellar/xz/5.4.5/include -I/usr/local/Cellar/jpeg-turbo/3.0.1/include -DHAVE_PROJ_H -I/usr/local/Cellar/gdal/3.8.3_1/include -I/usr/local/Cellar/geos/3.12.1/include -I'/usr/local/lib/R/4.3/site-library/Rcpp/include' -I/usr/local/opt/gettext/include -I/usr/local/opt/readline/include -I/usr/local/opt/xz/include -I/usr/local/include    -fPIC  -g -O2  -c stars.cpp -o stars.o\n",
      "clang++ -std=gnu++17 -I\"/usr/local/Cellar/r/4.3.2/lib/R/include\" -DNDEBUG -I/usr/local/Cellar/proj/9.3.1/include -I/usr/local/Cellar/libtiff/4.6.0/include -I/usr/local/opt/zstd/include -I/usr/local/Cellar/xz/5.4.5/include -I/usr/local/Cellar/jpeg-turbo/3.0.1/include -DHAVE_PROJ_H -I/usr/local/Cellar/gdal/3.8.3_1/include -I/usr/local/Cellar/geos/3.12.1/include -I'/usr/local/lib/R/4.3/site-library/Rcpp/include' -I/usr/local/opt/gettext/include -I/usr/local/opt/readline/include -I/usr/local/opt/xz/include -I/usr/local/include    -fPIC  -g -O2  -c wkb.cpp -o wkb.o\n",
      "clang++ -std=gnu++17 -I\"/usr/local/Cellar/r/4.3.2/lib/R/include\" -DNDEBUG -I/usr/local/Cellar/proj/9.3.1/include -I/usr/local/Cellar/libtiff/4.6.0/include -I/usr/local/opt/zstd/include -I/usr/local/Cellar/xz/5.4.5/include -I/usr/local/Cellar/jpeg-turbo/3.0.1/include -DHAVE_PROJ_H -I/usr/local/Cellar/gdal/3.8.3_1/include -I/usr/local/Cellar/geos/3.12.1/include -I'/usr/local/lib/R/4.3/site-library/Rcpp/include' -I/usr/local/opt/gettext/include -I/usr/local/opt/readline/include -I/usr/local/opt/xz/include -I/usr/local/include    -fPIC  -g -O2  -c zm_range.cpp -o zm_range.o\n",
      "clang++ -std=gnu++17 -dynamiclib -Wl,-headerpad_max_install_names -undefined dynamic_lookup -L/usr/local/Cellar/r/4.3.2/lib/R/lib -L/usr/local/opt/gettext/lib -L/usr/local/opt/readline/lib -L/usr/local/opt/xz/lib -L/usr/local/lib -o sf.so RcppExports.o bbox.o gdal.o gdal_geom.o gdal_read.o gdal_read_stream.o gdal_utils.o gdal_write.o geos.o hex.o mdim.o ops.o polygonize.o proj.o proj_info.o raster2sf.o sfc-sfg.o signed_area.o stars.o wkb.o zm_range.o -L/usr/local/Cellar/proj/9.3.1/lib -L/usr/local/Cellar/libtiff/4.6.0/lib -L/usr/local/opt/zstd/lib -L/usr/local/Cellar/xz/5.4.5/lib -L/usr/local/Cellar/jpeg-turbo/3.0.1/lib -lproj -lc++ -lm -ldl -lsqlite3 -ltiff -lzstd -llzma -ljpeg -lz -lzstd -llzma -pthread -lpthread -ljpeg -lz -lcurl -lldap -lz -L/usr/local/Cellar/gdal/3.8.3_1/lib -lgdal -L/usr/local/Cellar/geos/3.12.1/lib -lgeos_c -L/usr/local/Cellar/r/4.3.2/lib/R/lib -lR -lintl -Wl,-framework -Wl,CoreFoundation\n"
     ]
    },
    {
     "name": "stderr",
     "output_type": "stream",
     "text": [
      "ld: warning: -undefined dynamic_lookup may not work with chained fixups\n",
      "installing to /usr/local/lib/R/4.3/site-library/00LOCK-sf/00new/sf/libs\n",
      "** R\n",
      "** demo\n",
      "** inst\n",
      "** byte-compile and prepare package for lazy loading\n"
     ]
    },
    {
     "name": "stdout",
     "output_type": "stream",
     "text": [
      "Durante la inicialización - Warning messages:\n",
      "1: Setting LC_TIME failed, using \"C\" \n",
      "2: Setting LC_MESSAGES failed, using \"C\" \n",
      "3: Setting LC_MONETARY failed, using \"C\" \n",
      "in method for ‘dbWriteTable’ with signature ‘\"PostgreSQLConnection\",\"character\",\"sf\"’: no definition for class “PostgreSQLConnection”\n",
      "in method for ‘dbDataType’ with signature ‘\"PostgreSQLConnection\",\"sf\"’: no definition for class “PostgreSQLConnection”\n",
      "in method for ‘coerce’ with signature ‘\"Spatial\",\"sf\"’: no definition for class “Spatial”\n",
      "in method for ‘coerce’ with signature ‘\"Spatial\",\"sfc\"’: no definition for class “Spatial”\n",
      "in method for ‘coerce’ with signature ‘\"sf\",\"Spatial\"’: no definition for class “Spatial”\n",
      "in method for ‘coerce’ with signature ‘\"sfc\",\"Spatial\"’: no definition for class “Spatial”\n",
      "in method for ‘coerce’ with signature ‘\"XY\",\"Spatial\"’: no definition for class “Spatial”\n",
      "in method for ‘coerce’ with signature ‘\"crs\",\"CRS\"’: no definition for class “CRS”\n",
      "in method for ‘coerce’ with signature ‘\"sgbp\",\"sparseMatrix\"’: no definition for class “sparseMatrix”\n"
     ]
    },
    {
     "name": "stderr",
     "output_type": "stream",
     "text": [
      "** help\n",
      "*** installing help indices\n",
      "*** copying figures\n",
      "** building package indices\n"
     ]
    },
    {
     "name": "stdout",
     "output_type": "stream",
     "text": [
      "Durante la inicialización - Warning messages:\n",
      "1: Setting LC_TIME failed, using \"C\" \n",
      "2: Setting LC_MESSAGES failed, using \"C\" \n",
      "3: Setting LC_MONETARY failed, using \"C\" \n"
     ]
    },
    {
     "name": "stderr",
     "output_type": "stream",
     "text": [
      "** installing vignettes\n",
      "** testing if installed package can be loaded from temporary location\n"
     ]
    },
    {
     "name": "stdout",
     "output_type": "stream",
     "text": [
      "Durante la inicialización - Warning messages:\n",
      "1: Setting LC_TIME failed, using \"C\" \n",
      "2: Setting LC_MESSAGES failed, using \"C\" \n",
      "3: Setting LC_MONETARY failed, using \"C\" \n"
     ]
    },
    {
     "name": "stderr",
     "output_type": "stream",
     "text": [
      "** checking absolute paths in shared objects and dynamic libraries\n",
      "** testing if installed package can be loaded from final location\n"
     ]
    },
    {
     "name": "stdout",
     "output_type": "stream",
     "text": [
      "Durante la inicialización - Warning messages:\n",
      "1: Setting LC_TIME failed, using \"C\" \n",
      "2: Setting LC_MESSAGES failed, using \"C\" \n",
      "3: Setting LC_MONETARY failed, using \"C\" \n"
     ]
    },
    {
     "name": "stderr",
     "output_type": "stream",
     "text": [
      "** testing if installed package keeps a record of temporary installation path\n",
      "* DONE (sf)\n"
     ]
    },
    {
     "data": {
      "text/plain": [
       "Installing package into ‘/usr/local/lib/R/4.3/site-library’\n",
       "(as ‘lib’ is unspecified)\n",
       "probando la URL 'https://stat.ethz.ch/CRAN/src/contrib/ggplot2_3.4.4.tar.gz'\n",
       "Content type 'application/x-gzip' length 3159578 bytes (3.0 MB)\n",
       "==================================================\n",
       "downloaded 3.0 MB\n",
       "\n",
       "\n",
       "The downloaded source packages are in\n",
       "\t‘/private/var/folders/q8/p2jc4d5j7gq1vv276dfk9b480000gn/T/RtmpGLm8hR/downloaded_packages’\n",
       "Installing package into ‘/usr/local/lib/R/4.3/site-library’\n",
       "(as ‘lib’ is unspecified)\n",
       "also installing the dependencies ‘plyr’, ‘jpeg’, ‘bitops’\n",
       "\n",
       "probando la URL 'https://stat.ethz.ch/CRAN/src/contrib/plyr_1.8.9.tar.gz'\n",
       "Content type 'application/x-gzip' length 401488 bytes (392 KB)\n",
       "==================================================\n",
       "downloaded 392 KB\n",
       "\n",
       "probando la URL 'https://stat.ethz.ch/CRAN/src/contrib/jpeg_0.1-10.tar.gz'\n",
       "Content type 'application/x-gzip' length 18667 bytes (18 KB)\n",
       "==================================================\n",
       "downloaded 18 KB\n",
       "\n",
       "probando la URL 'https://stat.ethz.ch/CRAN/src/contrib/bitops_1.0-7.tar.gz'\n",
       "Content type 'application/x-gzip' length 10809 bytes (10 KB)\n",
       "==================================================\n",
       "downloaded 10 KB\n",
       "\n",
       "probando la URL 'https://stat.ethz.ch/CRAN/src/contrib/ggmap_4.0.0.tar.gz'\n",
       "Content type 'application/x-gzip' length 4945591 bytes (4.7 MB)\n",
       "==================================================\n",
       "downloaded 4.7 MB\n",
       "\n",
       "\n",
       "The downloaded source packages are in\n",
       "\t‘/private/var/folders/q8/p2jc4d5j7gq1vv276dfk9b480000gn/T/RtmpGLm8hR/downloaded_packages’\n",
       "Installing package into ‘/usr/local/lib/R/4.3/site-library’\n",
       "(as ‘lib’ is unspecified)\n",
       "probando la URL 'https://stat.ethz.ch/CRAN/src/contrib/sf_1.0-15.tar.gz'\n",
       "Content type 'application/x-gzip' length 3485450 bytes (3.3 MB)\n",
       "==================================================\n",
       "downloaded 3.3 MB\n",
       "\n",
       "\n",
       "The downloaded source packages are in\n",
       "\t‘/private/var/folders/q8/p2jc4d5j7gq1vv276dfk9b480000gn/T/RtmpGLm8hR/downloaded_packages’\n"
      ]
     },
     "metadata": {},
     "output_type": "display_data"
    }
   ],
   "source": [
    "%%R\n",
    "install.packages(\"ggplot2\")\n",
    "install.packages(\"ggmap\")\n",
    "install.packages(\"sf\")"
   ]
  },
  {
   "cell_type": "code",
   "execution_count": 12,
   "metadata": {},
   "outputs": [
    {
     "name": "stdout",
     "output_type": "stream",
     "text": [
      "ℹ Google's Terms of Service: <https://mapsplatform.google.com>\n",
      "  Stadia Maps' Terms of Service: <https://stadiamaps.com/terms-of-service/>\n",
      "  OpenStreetMap's Tile Usage Policy: <https://operations.osmfoundation.org/policies/tiles/>\n",
      "ℹ Please cite ggmap if you use it! Use `citation(\"ggmap\")` for details.\n",
      "Error in `get_googlemap()`:\n",
      "! Google now requires an API key; see `ggmap::register_google()`.\n",
      "Run `rlang::last_trace()` to see where the error occurred.\n",
      "Linking to GEOS 3.12.1, GDAL 3.8.3, PROJ 9.3.1; sf_use_s2() is TRUE\n",
      "Error in get_googlemap(center = location, zoom = zoom, maptype = maptype,  :\n"
     ]
    },
    {
     "ename": "RInterpreterError",
     "evalue": "Failed to parse and evaluate line '\\nlibrary(ggplot2)\\nlibrary(ggmap)\\nlibrary(sf)\\n\\ntoilets_df <- read.csv(\"YES.csv\")\\n\\n\\nmap <- get_map(location = \\'New York\\', zoom = 10)\\n\\nggmap(map) +\\n  geom_point(data = toilets_df, aes(x = Longitude, y = Latitude), color = \"red\", size = 3, alpha = 0.5) +\\n  labs(title = \"Toilets in New York\", x = \"Longitude\", y = \"Latitude\")\\n'.\nR error message: 'Error in get_googlemap(center = location, zoom = zoom, maptype = maptype,  :'\nR stdout:\nLinking to GEOS 3.12.1, GDAL 3.8.3, PROJ 9.3.1; sf_use_s2() is TRUE",
     "output_type": "error",
     "traceback": [
      "\u001b[0;31m---------------------------------------------------------------------------\u001b[0m",
      "\u001b[0;31mRRuntimeError\u001b[0m                             Traceback (most recent call last)",
      "File \u001b[0;32m~/.pyenv/versions/3.11.6/lib/python3.11/site-packages/rpy2/ipython/rmagic.py:407\u001b[0m, in \u001b[0;36mRMagics.eval\u001b[0;34m(self, code)\u001b[0m\n\u001b[1;32m    406\u001b[0m     r_expr \u001b[39m=\u001b[39m ri\u001b[39m.\u001b[39mparse(code)\n\u001b[0;32m--> 407\u001b[0m     value, visible \u001b[39m=\u001b[39m ri\u001b[39m.\u001b[39;49mevalr_expr_with_visible(\n\u001b[1;32m    408\u001b[0m         r_expr\n\u001b[1;32m    409\u001b[0m     )\n\u001b[1;32m    410\u001b[0m \u001b[39mexcept\u001b[39;00m (ri\u001b[39m.\u001b[39membedded\u001b[39m.\u001b[39mRRuntimeError, \u001b[39mValueError\u001b[39;00m) \u001b[39mas\u001b[39;00m exception:\n\u001b[1;32m    411\u001b[0m     \u001b[39m# Otherwise next return seems to have copy of error.\u001b[39;00m\n",
      "File \u001b[0;32m~/.pyenv/versions/3.11.6/lib/python3.11/site-packages/rpy2/rinterface.py:196\u001b[0m, in \u001b[0;36mevalr_expr_with_visible\u001b[0;34m(expr, envir)\u001b[0m\n\u001b[1;32m    195\u001b[0m \u001b[39mif\u001b[39;00m error_occured[\u001b[39m0\u001b[39m]:\n\u001b[0;32m--> 196\u001b[0m     \u001b[39mraise\u001b[39;00m embedded\u001b[39m.\u001b[39mRRuntimeError(_rinterface\u001b[39m.\u001b[39m_geterrmessage())\n\u001b[1;32m    197\u001b[0m res \u001b[39m=\u001b[39m conversion\u001b[39m.\u001b[39m_cdata_to_rinterface(r_res)\n",
      "\u001b[0;31mRRuntimeError\u001b[0m: Error in get_googlemap(center = location, zoom = zoom, maptype = maptype,  : \n  \n",
      "\nDuring handling of the above exception, another exception occurred:\n",
      "\u001b[0;31mRInterpreterError\u001b[0m                         Traceback (most recent call last)",
      "\u001b[1;32m/Users/carlamandiola/Desktop/connect-to-census/scatterplots.ipynb Cell 15\u001b[0m line \u001b[0;36m1\n\u001b[0;32m----> <a href='vscode-notebook-cell:/Users/carlamandiola/Desktop/connect-to-census/scatterplots.ipynb#X20sZmlsZQ%3D%3D?line=0'>1</a>\u001b[0m get_ipython()\u001b[39m.\u001b[39;49mrun_cell_magic(\u001b[39m'\u001b[39;49m\u001b[39mR\u001b[39;49m\u001b[39m'\u001b[39;49m, \u001b[39m'\u001b[39;49m\u001b[39m'\u001b[39;49m, \u001b[39m'\u001b[39;49m\u001b[39m\\n\u001b[39;49;00m\u001b[39mlibrary(ggplot2)\u001b[39;49m\u001b[39m\\n\u001b[39;49;00m\u001b[39mlibrary(ggmap)\u001b[39;49m\u001b[39m\\n\u001b[39;49;00m\u001b[39mlibrary(sf)\u001b[39;49m\u001b[39m\\n\u001b[39;49;00m\u001b[39m\\n\u001b[39;49;00m\u001b[39mtoilets_df <- read.csv(\u001b[39;49m\u001b[39m\"\u001b[39;49m\u001b[39mYES.csv\u001b[39;49m\u001b[39m\"\u001b[39;49m\u001b[39m)\u001b[39;49m\u001b[39m\\n\u001b[39;49;00m\u001b[39m\\n\u001b[39;49;00m\u001b[39m\\n\u001b[39;49;00m\u001b[39mmap <- get_map(location = \u001b[39;49m\u001b[39m\\'\u001b[39;49;00m\u001b[39mNew York\u001b[39;49m\u001b[39m\\'\u001b[39;49;00m\u001b[39m, zoom = 10)\u001b[39;49m\u001b[39m\\n\u001b[39;49;00m\u001b[39m\\n\u001b[39;49;00m\u001b[39mggmap(map) +\u001b[39;49m\u001b[39m\\n\u001b[39;49;00m\u001b[39m  geom_point(data = toilets_df, aes(x = Longitude, y = Latitude), color = \u001b[39;49m\u001b[39m\"\u001b[39;49m\u001b[39mred\u001b[39;49m\u001b[39m\"\u001b[39;49m\u001b[39m, size = 3, alpha = 0.5) +\u001b[39;49m\u001b[39m\\n\u001b[39;49;00m\u001b[39m  labs(title = \u001b[39;49m\u001b[39m\"\u001b[39;49m\u001b[39mToilets in New York\u001b[39;49m\u001b[39m\"\u001b[39;49m\u001b[39m, x = \u001b[39;49m\u001b[39m\"\u001b[39;49m\u001b[39mLongitude\u001b[39;49m\u001b[39m\"\u001b[39;49m\u001b[39m, y = \u001b[39;49m\u001b[39m\"\u001b[39;49m\u001b[39mLatitude\u001b[39;49m\u001b[39m\"\u001b[39;49m\u001b[39m)\u001b[39;49m\u001b[39m\\n\u001b[39;49;00m\u001b[39m'\u001b[39;49m)\n",
      "File \u001b[0;32m~/.pyenv/versions/3.11.6/lib/python3.11/site-packages/IPython/core/interactiveshell.py:2517\u001b[0m, in \u001b[0;36mInteractiveShell.run_cell_magic\u001b[0;34m(self, magic_name, line, cell)\u001b[0m\n\u001b[1;32m   2515\u001b[0m \u001b[39mwith\u001b[39;00m \u001b[39mself\u001b[39m\u001b[39m.\u001b[39mbuiltin_trap:\n\u001b[1;32m   2516\u001b[0m     args \u001b[39m=\u001b[39m (magic_arg_s, cell)\n\u001b[0;32m-> 2517\u001b[0m     result \u001b[39m=\u001b[39m fn(\u001b[39m*\u001b[39;49margs, \u001b[39m*\u001b[39;49m\u001b[39m*\u001b[39;49mkwargs)\n\u001b[1;32m   2519\u001b[0m \u001b[39m# The code below prevents the output from being displayed\u001b[39;00m\n\u001b[1;32m   2520\u001b[0m \u001b[39m# when using magics with decorator @output_can_be_silenced\u001b[39;00m\n\u001b[1;32m   2521\u001b[0m \u001b[39m# when the last Python token in the expression is a ';'.\u001b[39;00m\n\u001b[1;32m   2522\u001b[0m \u001b[39mif\u001b[39;00m \u001b[39mgetattr\u001b[39m(fn, magic\u001b[39m.\u001b[39mMAGIC_OUTPUT_CAN_BE_SILENCED, \u001b[39mFalse\u001b[39;00m):\n",
      "File \u001b[0;32m~/.pyenv/versions/3.11.6/lib/python3.11/site-packages/rpy2/ipython/rmagic.py:984\u001b[0m, in \u001b[0;36mRMagics.R\u001b[0;34m(self, line, cell, local_ns)\u001b[0m\n\u001b[1;32m    982\u001b[0m     \u001b[39mif\u001b[39;00m \u001b[39mnot\u001b[39;00m e\u001b[39m.\u001b[39mstdout\u001b[39m.\u001b[39mendswith(e\u001b[39m.\u001b[39merr):\n\u001b[1;32m    983\u001b[0m         \u001b[39mprint\u001b[39m(e\u001b[39m.\u001b[39merr)\n\u001b[0;32m--> 984\u001b[0m     \u001b[39mraise\u001b[39;00m e\n\u001b[1;32m    985\u001b[0m \u001b[39mfinally\u001b[39;00m:\n\u001b[1;32m    986\u001b[0m     \u001b[39mif\u001b[39;00m \u001b[39mself\u001b[39m\u001b[39m.\u001b[39mdevice \u001b[39min\u001b[39;00m DEVICES_STATIC:\n",
      "File \u001b[0;32m~/.pyenv/versions/3.11.6/lib/python3.11/site-packages/rpy2/ipython/rmagic.py:949\u001b[0m, in \u001b[0;36mRMagics.R\u001b[0;34m(self, line, cell, local_ns)\u001b[0m\n\u001b[1;32m    947\u001b[0m         return_output \u001b[39m=\u001b[39m \u001b[39mFalse\u001b[39;00m\n\u001b[1;32m    948\u001b[0m \u001b[39melse\u001b[39;00m:\n\u001b[0;32m--> 949\u001b[0m     text_result, result, visible \u001b[39m=\u001b[39m \u001b[39mself\u001b[39;49m\u001b[39m.\u001b[39;49meval(code)\n\u001b[1;32m    950\u001b[0m     text_output \u001b[39m+\u001b[39m\u001b[39m=\u001b[39m text_result\n\u001b[1;32m    951\u001b[0m     \u001b[39mif\u001b[39;00m visible:\n",
      "File \u001b[0;32m~/.pyenv/versions/3.11.6/lib/python3.11/site-packages/rpy2/ipython/rmagic.py:413\u001b[0m, in \u001b[0;36mRMagics.eval\u001b[0;34m(self, code)\u001b[0m\n\u001b[1;32m    410\u001b[0m \u001b[39mexcept\u001b[39;00m (ri\u001b[39m.\u001b[39membedded\u001b[39m.\u001b[39mRRuntimeError, \u001b[39mValueError\u001b[39;00m) \u001b[39mas\u001b[39;00m exception:\n\u001b[1;32m    411\u001b[0m     \u001b[39m# Otherwise next return seems to have copy of error.\u001b[39;00m\n\u001b[1;32m    412\u001b[0m     warning_or_other_msg \u001b[39m=\u001b[39m \u001b[39mself\u001b[39m\u001b[39m.\u001b[39mflush()\n\u001b[0;32m--> 413\u001b[0m     \u001b[39mraise\u001b[39;00m RInterpreterError(code, \u001b[39mstr\u001b[39m(exception),\n\u001b[1;32m    414\u001b[0m                             warning_or_other_msg)\n\u001b[1;32m    415\u001b[0m \u001b[39mfinally\u001b[39;00m:\n\u001b[1;32m    416\u001b[0m     ro\u001b[39m.\u001b[39m_print_deferred_warnings()\n",
      "\u001b[0;31mRInterpreterError\u001b[0m: Failed to parse and evaluate line '\\nlibrary(ggplot2)\\nlibrary(ggmap)\\nlibrary(sf)\\n\\ntoilets_df <- read.csv(\"YES.csv\")\\n\\n\\nmap <- get_map(location = \\'New York\\', zoom = 10)\\n\\nggmap(map) +\\n  geom_point(data = toilets_df, aes(x = Longitude, y = Latitude), color = \"red\", size = 3, alpha = 0.5) +\\n  labs(title = \"Toilets in New York\", x = \"Longitude\", y = \"Latitude\")\\n'.\nR error message: 'Error in get_googlemap(center = location, zoom = zoom, maptype = maptype,  :'\nR stdout:\nLinking to GEOS 3.12.1, GDAL 3.8.3, PROJ 9.3.1; sf_use_s2() is TRUE"
     ]
    }
   ],
   "source": [
    "\n",
    "%%R\n",
    "\n",
    "library(ggplot2)\n",
    "library(ggmap)\n",
    "library(sf)\n",
    "\n",
    "toilets_df <- read.csv(\"YES.csv\")\n",
    "\n",
    "\n",
    "map <- get_map(location = 'New York', zoom = 10)\n",
    "\n",
    "ggmap(map) +\n",
    "  geom_point(data = toilets_df, aes(x = Longitude, y = Latitude), color = \"red\", size = 3, alpha = 0.5) +\n",
    "  labs(title = \"Toilets in New York\", x = \"Longitude\", y = \"Latitude\")"
   ]
  }
 ],
 "metadata": {
  "kernelspec": {
   "display_name": "Python 3",
   "language": "python",
   "name": "python3"
  },
  "language_info": {
   "codemirror_mode": {
    "name": "ipython",
    "version": 3
   },
   "file_extension": ".py",
   "mimetype": "text/x-python",
   "name": "python",
   "nbconvert_exporter": "python",
   "pygments_lexer": "ipython3",
   "version": "3.11.6"
  },
  "vscode": {
   "interpreter": {
    "hash": "34166945ca6cc351f9d38b360afe1a928411c84fd696a9e2d08d61ef3f7e4692"
   }
  }
 },
 "nbformat": 4,
 "nbformat_minor": 2
}
