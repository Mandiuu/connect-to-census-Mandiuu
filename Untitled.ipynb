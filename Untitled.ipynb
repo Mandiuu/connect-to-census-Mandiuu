{
 "cells": [
  {
   "cell_type": "code",
   "execution_count": 1,
   "id": "68623c69-9d0f-4c24-9282-6f177bb66f63",
   "metadata": {},
   "outputs": [
    {
     "name": "stdout",
     "output_type": "stream",
     "text": [
      "\u001b[31mERROR: Could not find a version that satisfies the requirement tidycensus (from versions: none)\u001b[0m\u001b[31m\n",
      "\u001b[0m\u001b[31mERROR: No matching distribution found for tidycensus\u001b[0m\u001b[31m\n",
      "\u001b[0mNote: you may need to restart the kernel to use updated packages.\n"
     ]
    }
   ],
   "source": [
    "pip install tidycensus\n"
   ]
  },
  {
   "cell_type": "code",
   "execution_count": 3,
   "id": "d40095c8-3218-4b33-87c2-8f2e7260f100",
   "metadata": {},
   "outputs": [
    {
     "name": "stdout",
     "output_type": "stream",
     "text": [
      "Collecting tidyverse\n",
      "  Downloading tidyverse-0.1.0-py3-none-any.whl (1.1 kB)\n",
      "Collecting plotnine<0.11.0,>=0.10.1 (from tidyverse)\n",
      "  Downloading plotnine-0.10.1-py3-none-any.whl (1.2 MB)\n",
      "\u001b[2K     \u001b[90m━━━━━━━━━━━━━━━━━━━━━━━━━━━━━━━━━━━━━━━━\u001b[0m \u001b[32m1.2/1.2 MB\u001b[0m \u001b[31m6.9 MB/s\u001b[0m eta \u001b[36m0:00:00\u001b[0m:00:01\u001b[0m00:01\u001b[0m\n",
      "\u001b[?25hCollecting siuba<0.4.0,>=0.3.0 (from tidyverse)\n",
      "  Downloading siuba-0.3.0-py3-none-any.whl (142 kB)\n",
      "\u001b[2K     \u001b[90m━━━━━━━━━━━━━━━━━━━━━━━━━━━━━━━━━━━━━━━\u001b[0m \u001b[32m142.1/142.1 kB\u001b[0m \u001b[31m3.1 MB/s\u001b[0m eta \u001b[36m0:00:00\u001b[0ma \u001b[36m0:00:01\u001b[0m\n",
      "\u001b[?25hRequirement already satisfied: matplotlib>=3.5.0 in /Users/carlamandiola/.pyenv/versions/3.11.6/lib/python3.11/site-packages (from plotnine<0.11.0,>=0.10.1->tidyverse) (3.8.1)\n",
      "Collecting mizani>=0.8.1 (from plotnine<0.11.0,>=0.10.1->tidyverse)\n",
      "  Downloading mizani-0.11.0-py3-none-any.whl.metadata (4.8 kB)\n",
      "Requirement already satisfied: numpy>=1.19.0 in /Users/carlamandiola/.pyenv/versions/3.11.6/lib/python3.11/site-packages (from plotnine<0.11.0,>=0.10.1->tidyverse) (1.26.1)\n",
      "Requirement already satisfied: pandas>=1.3.5 in /Users/carlamandiola/.pyenv/versions/3.11.6/lib/python3.11/site-packages (from plotnine<0.11.0,>=0.10.1->tidyverse) (2.1.2)\n",
      "Collecting patsy>=0.5.1 (from plotnine<0.11.0,>=0.10.1->tidyverse)\n",
      "  Downloading patsy-0.5.6-py2.py3-none-any.whl.metadata (3.5 kB)\n",
      "Requirement already satisfied: scipy>=1.5.0 in /Users/carlamandiola/.pyenv/versions/3.11.6/lib/python3.11/site-packages (from plotnine<0.11.0,>=0.10.1->tidyverse) (1.11.4)\n",
      "Collecting statsmodels>=0.13.2 (from plotnine<0.11.0,>=0.10.1->tidyverse)\n",
      "  Downloading statsmodels-0.14.1-cp311-cp311-macosx_10_9_x86_64.whl.metadata (9.5 kB)\n",
      "Collecting SQLAlchemy>=1.2.19 (from siuba<0.4.0,>=0.3.0->tidyverse)\n",
      "  Downloading SQLAlchemy-2.0.27-cp311-cp311-macosx_10_9_x86_64.whl.metadata (9.6 kB)\n",
      "Requirement already satisfied: PyYAML>=3.0.0 in /Users/carlamandiola/.pyenv/versions/3.11.6/lib/python3.11/site-packages (from siuba<0.4.0,>=0.3.0->tidyverse) (6.0.1)\n",
      "Requirement already satisfied: contourpy>=1.0.1 in /Users/carlamandiola/.pyenv/versions/3.11.6/lib/python3.11/site-packages (from matplotlib>=3.5.0->plotnine<0.11.0,>=0.10.1->tidyverse) (1.2.0)\n",
      "Requirement already satisfied: cycler>=0.10 in /Users/carlamandiola/.pyenv/versions/3.11.6/lib/python3.11/site-packages (from matplotlib>=3.5.0->plotnine<0.11.0,>=0.10.1->tidyverse) (0.12.1)\n",
      "Requirement already satisfied: fonttools>=4.22.0 in /Users/carlamandiola/.pyenv/versions/3.11.6/lib/python3.11/site-packages (from matplotlib>=3.5.0->plotnine<0.11.0,>=0.10.1->tidyverse) (4.44.0)\n",
      "Requirement already satisfied: kiwisolver>=1.3.1 in /Users/carlamandiola/.pyenv/versions/3.11.6/lib/python3.11/site-packages (from matplotlib>=3.5.0->plotnine<0.11.0,>=0.10.1->tidyverse) (1.4.5)\n",
      "Requirement already satisfied: packaging>=20.0 in /Users/carlamandiola/.pyenv/versions/3.11.6/lib/python3.11/site-packages (from matplotlib>=3.5.0->plotnine<0.11.0,>=0.10.1->tidyverse) (23.2)\n",
      "Requirement already satisfied: pillow>=8 in /Users/carlamandiola/.pyenv/versions/3.11.6/lib/python3.11/site-packages (from matplotlib>=3.5.0->plotnine<0.11.0,>=0.10.1->tidyverse) (10.1.0)\n",
      "Requirement already satisfied: pyparsing>=2.3.1 in /Users/carlamandiola/.pyenv/versions/3.11.6/lib/python3.11/site-packages (from matplotlib>=3.5.0->plotnine<0.11.0,>=0.10.1->tidyverse) (3.1.1)\n",
      "Requirement already satisfied: python-dateutil>=2.7 in /Users/carlamandiola/.pyenv/versions/3.11.6/lib/python3.11/site-packages (from matplotlib>=3.5.0->plotnine<0.11.0,>=0.10.1->tidyverse) (2.8.2)\n",
      "Requirement already satisfied: pytz>=2020.1 in /Users/carlamandiola/.pyenv/versions/3.11.6/lib/python3.11/site-packages (from pandas>=1.3.5->plotnine<0.11.0,>=0.10.1->tidyverse) (2023.3.post1)\n",
      "Requirement already satisfied: tzdata>=2022.1 in /Users/carlamandiola/.pyenv/versions/3.11.6/lib/python3.11/site-packages (from pandas>=1.3.5->plotnine<0.11.0,>=0.10.1->tidyverse) (2023.3)\n",
      "Requirement already satisfied: six in /Users/carlamandiola/.pyenv/versions/3.11.6/lib/python3.11/site-packages (from patsy>=0.5.1->plotnine<0.11.0,>=0.10.1->tidyverse) (1.16.0)\n",
      "Requirement already satisfied: typing-extensions>=4.6.0 in /Users/carlamandiola/.pyenv/versions/3.11.6/lib/python3.11/site-packages (from SQLAlchemy>=1.2.19->siuba<0.4.0,>=0.3.0->tidyverse) (4.8.0)\n",
      "Requirement already satisfied: greenlet!=0.4.17 in /Users/carlamandiola/.pyenv/versions/3.11.6/lib/python3.11/site-packages (from SQLAlchemy>=1.2.19->siuba<0.4.0,>=0.3.0->tidyverse) (3.0.1)\n",
      "Downloading mizani-0.11.0-py3-none-any.whl (114 kB)\n",
      "\u001b[2K   \u001b[90m━━━━━━━━━━━━━━━━━━━━━━━━━━━━━━━━━━━━━━━━\u001b[0m \u001b[32m114.4/114.4 kB\u001b[0m \u001b[31m3.3 MB/s\u001b[0m eta \u001b[36m0:00:00\u001b[0m\n",
      "\u001b[?25hDownloading patsy-0.5.6-py2.py3-none-any.whl (233 kB)\n",
      "\u001b[2K   \u001b[90m━━━━━━━━━━━━━━━━━━━━━━━━━━━━━━━━━━━━━━━━\u001b[0m \u001b[32m233.9/233.9 kB\u001b[0m \u001b[31m6.9 MB/s\u001b[0m eta \u001b[36m0:00:00\u001b[0m\n",
      "\u001b[?25hDownloading SQLAlchemy-2.0.27-cp311-cp311-macosx_10_9_x86_64.whl (2.1 MB)\n",
      "\u001b[2K   \u001b[90m━━━━━━━━━━━━━━━━━━━━━━━━━━━━━━━━━━━━━━━━\u001b[0m \u001b[32m2.1/2.1 MB\u001b[0m \u001b[31m6.9 MB/s\u001b[0m eta \u001b[36m0:00:00\u001b[0m00:01\u001b[0m00:01\u001b[0m\n",
      "\u001b[?25hDownloading statsmodels-0.14.1-cp311-cp311-macosx_10_9_x86_64.whl (10.5 MB)\n",
      "\u001b[2K   \u001b[90m━━━━━━━━━━━━━━━━━━━━━━━━━━━━━━━━━━━━━━━━\u001b[0m \u001b[32m10.5/10.5 MB\u001b[0m \u001b[31m8.4 MB/s\u001b[0m eta \u001b[36m0:00:00\u001b[0m:00:01\u001b[0m0:01\u001b[0m\n",
      "\u001b[?25hInstalling collected packages: SQLAlchemy, patsy, statsmodels, siuba, mizani, plotnine, tidyverse\n",
      "Successfully installed SQLAlchemy-2.0.27 mizani-0.11.0 patsy-0.5.6 plotnine-0.10.1 siuba-0.3.0 statsmodels-0.14.1 tidyverse-0.1.0\n",
      "Note: you may need to restart the kernel to use updated packages.\n"
     ]
    }
   ],
   "source": [
    "pip install tidyverse"
   ]
  },
  {
   "cell_type": "code",
   "execution_count": 4,
   "id": "cba3c4a0-d84c-4ceb-92d0-e8054fcfbb82",
   "metadata": {},
   "outputs": [
    {
     "ename": "NameError",
     "evalue": "name 'library' is not defined",
     "output_type": "error",
     "traceback": [
      "\u001b[0;31m---------------------------------------------------------------------------\u001b[0m",
      "\u001b[0;31mNameError\u001b[0m                                 Traceback (most recent call last)",
      "Cell \u001b[0;32mIn[4], line 1\u001b[0m\n\u001b[0;32m----> 1\u001b[0m \u001b[43mlibrary\u001b[49m(tidycensus)\n\u001b[1;32m      2\u001b[0m library(tidyverse)\n\u001b[1;32m      4\u001b[0m census_api_key(\u001b[38;5;124m\"\u001b[39m\u001b[38;5;124ma435d72f84653a5895173d187536a34d55ac0afc\u001b[39m\u001b[38;5;124m\"\u001b[39m)\n",
      "\u001b[0;31mNameError\u001b[0m: name 'library' is not defined"
     ]
    }
   ],
   "source": [
    "library(tidycensus)\n",
    "library(tidyverse)\n",
    "\n",
    "census_api_key(\"a435d72f84653a5895173d187536a34d55ac0afc\")"
   ]
  },
  {
   "cell_type": "code",
   "execution_count": null,
   "id": "4e4342f2-dd13-42cf-8aac-1c5e170e58b6",
   "metadata": {},
   "outputs": [],
   "source": []
  }
 ],
 "metadata": {
  "kernelspec": {
   "display_name": "Python 3 (ipykernel)",
   "language": "python",
   "name": "python3"
  },
  "language_info": {
   "codemirror_mode": {
    "name": "ipython",
    "version": 3
   },
   "file_extension": ".py",
   "mimetype": "text/x-python",
   "name": "python",
   "nbconvert_exporter": "python",
   "pygments_lexer": "ipython3",
   "version": "3.11.6"
  }
 },
 "nbformat": 4,
 "nbformat_minor": 5
}
