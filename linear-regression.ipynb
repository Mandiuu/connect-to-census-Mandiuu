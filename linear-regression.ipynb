{
 "cells": [
  {
   "cell_type": "code",
   "execution_count": 1,
   "metadata": {},
   "outputs": [
    {
     "name": "stderr",
     "output_type": "stream",
     "text": [
      "During startup - Warning messages:\n",
      "1: Setting LC_COLLATE failed, using \"C\" \n",
      "2: Setting LC_TIME failed, using \"C\" \n",
      "3: Setting LC_MESSAGES failed, using \"C\" \n",
      "4: Setting LC_MONETARY failed, using \"C\" \n"
     ]
    }
   ],
   "source": [
    "%load_ext rpy2.ipython\n",
    "%load_ext autoreload\n",
    "%autoreload 2\n",
    "\n",
    "%matplotlib inline  \n",
    "from matplotlib import rcParams\n",
    "rcParams['figure.figsize'] = (16, 100)\n",
    "\n",
    "import warnings\n",
    "from rpy2.rinterface import RRuntimeWarning\n",
    "warnings.filterwarnings(\"ignore\") # Ignore all warnings\n",
    "# warnings.filterwarnings(\"ignore\", category=RRuntimeWarning) # Show some warnings\n",
    "\n",
    "import pandas as pd\n",
    "import numpy as np\n",
    "import matplotlib.pyplot as plt\n",
    "from IPython.display import display, HTML"
   ]
  },
  {
   "cell_type": "code",
   "execution_count": 2,
   "metadata": {},
   "outputs": [
    {
     "data": {
      "application/javascript": "// Disable auto-scrolling\nIPython.OutputArea.prototype._should_scroll = function(lines) {\n    return false;\n}\n",
      "text/plain": [
       "<IPython.core.display.Javascript object>"
      ]
     },
     "metadata": {},
     "output_type": "display_data"
    }
   ],
   "source": [
    "%%javascript\n",
    "// Disable auto-scrolling\n",
    "IPython.OutputArea.prototype._should_scroll = function(lines) {\n",
    "    return false;\n",
    "}"
   ]
  },
  {
   "cell_type": "code",
   "execution_count": 32,
   "metadata": {},
   "outputs": [
    {
     "name": "stdout",
     "output_type": "stream",
     "text": [
      "# A tibble: 1,842 × 17\n",
      "   Name        Location `Open Year-Round` `Handicap Accessible` Borough Comments\n",
      "   <chr>       <chr>    <chr>             <chr>                 <chr>   <chr>   \n",
      " 1 100% Playg… Glenwoo… Yes               <NA>                  Brookl… <NA>    \n",
      " 2 100% Playg… Glenwoo… Yes               <NA>                  Brookl… <NA>    \n",
      " 3 100% Playg… Glenwoo… Yes               <NA>                  Brookl… <NA>    \n",
      " 4 174th Stre… East 17… Yes               <NA>                  Bronx   <NA>    \n",
      " 5 174th Stre… East 17… Yes               <NA>                  Bronx   <NA>    \n",
      " 6 174th Stre… East 17… Yes               <NA>                  Bronx   <NA>    \n",
      " 7 227 Street… Bronx B… Yes               Yes                   Bronx   <NA>    \n",
      " 8 227 Street… Bronx B… Yes               Yes                   Bronx   <NA>    \n",
      " 9 227 Street… Bronx B… Yes               Yes                   Bronx   <NA>    \n",
      "10 Rienzi Pla… East 22… Yes               <NA>                  Bronx   <NA>    \n",
      "# ℹ 1,832 more rows\n",
      "# ℹ 11 more variables: Latitude <dbl>, Longitude <dbl>, GEOID <chr>,\n",
      "#   STATE <dbl>, COUNTY <dbl>, TRACT <dbl>, BLOCK <dbl>, NAME <chr>,\n",
      "#   variable <chr>, estimate <dbl>, moe <dbl>\n",
      "# ℹ Use `print(n = ...)` to see more rows\n"
     ]
    }
   ],
   "source": [
    "%%R -o data\n",
    "\n",
    "library(tidyverse)\n",
    "\n",
    "data"
   ]
  },
  {
   "cell_type": "code",
   "execution_count": 33,
   "metadata": {},
   "outputs": [
    {
     "name": "stdout",
     "output_type": "stream",
     "text": [
      "tibble [1,842 × 17] (S3: tbl_df/tbl/data.frame)\n",
      " $ Name               : chr [1:1842] \"100% Playground\" \"100% Playground\" \"100% Playground\" \"174th Street Playground\" ...\n",
      " $ Location           : chr [1:1842] \"Glenwood Road, East 100 & East 101 streets\" \"Glenwood Road, East 100 & East 101 streets\" \"Glenwood Road, East 100 & East 101 streets\" \"East 174 Street, Stratford Avenue, Bronx River Avenue\" ...\n",
      " $ Open Year-Round    : chr [1:1842] \"Yes\" \"Yes\" \"Yes\" \"Yes\" ...\n",
      " $ Handicap Accessible: chr [1:1842] NA NA NA NA ...\n",
      " $ Borough            : chr [1:1842] \"Brooklyn\" \"Brooklyn\" \"Brooklyn\" \"Bronx\" ...\n",
      " $ Comments           : chr [1:1842] NA NA NA NA ...\n",
      " $ Latitude           : num [1:1842] 40.6 40.6 40.6 40.8 40.8 ...\n",
      " $ Longitude          : num [1:1842] -73.9 -73.9 -73.9 -73.9 -73.9 ...\n",
      " $ GEOID              : chr [1:1842] \"36047097400\" \"36047097400\" \"36047097400\" \"36005006200\" ...\n",
      " $ STATE              : num [1:1842] 36 36 36 36 36 36 36 36 36 36 ...\n",
      " $ COUNTY             : num [1:1842] 47 47 47 5 5 5 5 5 5 5 ...\n",
      " $ TRACT              : num [1:1842] 97400 97400 97400 6200 6200 6200 40600 40600 40600 40600 ...\n",
      " $ BLOCK              : num [1:1842] 2002 2002 2002 3000 3000 ...\n",
      " $ NAME               : chr [1:1842] \"Census Tract 974, Kings County, New York\" \"Census Tract 974, Kings County, New York\" \"Census Tract 974, Kings County, New York\" \"Census Tract 62, Bronx County, New York\" ...\n",
      " $ variable           : chr [1:1842] \"population\" \"poverty\" \"med_inc\" \"population\" ...\n",
      " $ estimate           : num [1:1842] 2792 2464 76767 6710 6710 ...\n",
      " $ moe                : num [1:1842] 536 417 17732 809 809 ...\n"
     ]
    }
   ],
   "source": [
    "%%R \n",
    "\n",
    "library(dplyr)\n",
    "str(data)\n",
    "\n"
   ]
  },
  {
   "cell_type": "code",
   "execution_count": 5,
   "metadata": {},
   "outputs": [
    {
     "name": "stdout",
     "output_type": "stream",
     "text": [
      "--- Please select a CRAN mirror for use in this session ---\n",
      "Secure CRAN mirrors \n",
      "\n",
      " 1: 0-Cloud [https]\n",
      " 2: Australia (Canberra) [https]\n",
      " 3: Australia (Melbourne 1) [https]\n",
      " 4: Australia (Melbourne 2) [https]\n",
      " 5: Austria [https]\n",
      " 6: Belgium (Brussels) [https]\n",
      " 7: Brazil (PR) [https]\n",
      " 8: Brazil (RJ) [https]\n",
      " 9: Brazil (SP 1) [https]\n",
      "10: Brazil (SP 2) [https]\n",
      "11: Bulgaria [https]\n",
      "12: Canada (MB) [https]\n",
      "13: Canada (ON) [https]\n",
      "14: Chile (Santiago) [https]\n",
      "15: China (Beijing 2) [https]\n",
      "16: China (Beijing 3) [https]\n",
      "17: China (Hefei) [https]\n",
      "18: China (Hong Kong) [https]\n",
      "19: China (Guangzhou) [https]\n",
      "20: China (Jinan) [https]\n",
      "21: China (Lanzhou) [https]\n",
      "22: China (Nanjing) [https]\n",
      "23: China (Shanghai 2) [https]\n",
      "24: China (Shenzhen) [https]\n",
      "25: Colombia (Cali) [https]\n",
      "26: Costa Rica [https]\n",
      "27: Cyprus [https]\n",
      "28: Czech Republic [https]\n",
      "29: Denmark [https]\n",
      "30: Ecuador (Cuenca) [https]\n",
      "31: France (Lyon 1) [https]\n",
      "32: France (Lyon 2) [https]\n",
      "33: France (Marseille) [https]\n",
      "34: France (Paris 1) [https]\n",
      "35: Germany (Erlangen) [https]\n",
      "36: Germany (Göttingen) [https]\n",
      "37: Germany (Leipzig) [https]\n",
      "38: Germany (Münster) [https]\n",
      "39: Greece [https]\n",
      "40: Iceland [https]\n",
      "41: India (Bengaluru) [https]\n",
      "42: India (Bhubaneswar) [https]\n",
      "43: Indonesia (Banda Aceh) [https]\n",
      "44: Iran (Mashhad) [https]\n",
      "45: Italy (Milano) [https]\n",
      "46: Italy (Padua) [https]\n",
      "47: Japan (Tokyo) [https]\n",
      "48: Japan (Yonezawa) [https]\n",
      "49: Korea (Gyeongsan-si) [https]\n",
      "50: Mexico (Mexico City) [https]\n",
      "51: Mexico (Texcoco) [https]\n",
      "52: Morocco [https]\n",
      "53: Netherlands (Dronten) [https]\n",
      "54: New Zealand [https]\n",
      "55: Norway [https]\n",
      "56: South Africa (Johannesburg) [https]\n",
      "57: Spain (A Coruña) [https]\n",
      "58: Spain (Madrid) [https]\n",
      "59: Sweden (Umeå) [https]\n",
      "60: Switzerland (Zurich 1) [https]\n",
      "61: Taiwan (Taipei) [https]\n",
      "62: Turkey (Denizli) [https]\n",
      "63: Turkey (Istanbul) [https]\n",
      "64: UK (Bristol) [https]\n",
      "65: UK (London 1) [https]\n",
      "66: USA (IA) [https]\n",
      "67: USA (MI) [https]\n",
      "68: USA (MO) [https]\n",
      "69: USA (OH) [https]\n",
      "70: USA (OR) [https]\n",
      "71: USA (TN) [https]\n",
      "72: United Arab Emirates [https]\n",
      "73: Uruguay [https]\n",
      "74: (other mirrors)\n",
      "\n"
     ]
    },
    {
     "name": "stderr",
     "output_type": "stream",
     "text": [
      "During startup - Warning messages:\n",
      "1: Setting LC_TIME failed, using \"C\" \n",
      "2: Setting LC_MESSAGES failed, using \"C\" \n",
      "3: Setting LC_MONETARY failed, using \"C\" \n",
      "* installing *source* package ‘readxl’ ...\n",
      "** package ‘readxl’ successfully unpacked and MD5 sums checked\n",
      "** using staged installation\n",
      "** libs\n",
      "using C compiler: ‘Apple clang version 14.0.0 (clang-1400.0.29.202)’\n",
      "using C++ compiler: ‘Apple clang version 14.0.0 (clang-1400.0.29.202)’\n",
      "using SDK: ‘MacOSX13.1.sdk’\n"
     ]
    },
    {
     "name": "stdout",
     "output_type": "stream",
     "text": [
      "clang++ -std=gnu++17 -I\"/usr/local/Cellar/r/4.3.2/lib/R/include\" -DNDEBUG -Iunix -I. -I'/usr/local/lib/R/4.3/site-library/cpp11/include' -I'/usr/local/lib/R/4.3/site-library/progress/include' -I/usr/local/opt/gettext/include -I/usr/local/opt/readline/include -I/usr/local/opt/xz/include -I/usr/local/include    -fPIC  -g -O2  -c cpp11.cpp -o cpp11.o\n",
      "clang++ -std=gnu++17 -I\"/usr/local/Cellar/r/4.3.2/lib/R/include\" -DNDEBUG -Iunix -I. -I'/usr/local/lib/R/4.3/site-library/cpp11/include' -I'/usr/local/lib/R/4.3/site-library/progress/include' -I/usr/local/opt/gettext/include -I/usr/local/opt/readline/include -I/usr/local/opt/xz/include -I/usr/local/include    -fPIC  -g -O2  -c XlsWorkBook.cpp -o XlsWorkBook.o\n",
      "clang++ -std=gnu++17 -I\"/usr/local/Cellar/r/4.3.2/lib/R/include\" -DNDEBUG -Iunix -I. -I'/usr/local/lib/R/4.3/site-library/cpp11/include' -I'/usr/local/lib/R/4.3/site-library/progress/include' -I/usr/local/opt/gettext/include -I/usr/local/opt/readline/include -I/usr/local/opt/xz/include -I/usr/local/include    -fPIC  -g -O2  -c XlsxWorkBook.cpp -o XlsxWorkBook.o\n",
      "clang++ -std=gnu++17 -I\"/usr/local/Cellar/r/4.3.2/lib/R/include\" -DNDEBUG -Iunix -I. -I'/usr/local/lib/R/4.3/site-library/cpp11/include' -I'/usr/local/lib/R/4.3/site-library/progress/include' -I/usr/local/opt/gettext/include -I/usr/local/opt/readline/include -I/usr/local/opt/xz/include -I/usr/local/include    -fPIC  -g -O2  -c zip.cpp -o zip.o\n",
      "clang++ -std=gnu++17 -I\"/usr/local/Cellar/r/4.3.2/lib/R/include\" -DNDEBUG -Iunix -I. -I'/usr/local/lib/R/4.3/site-library/cpp11/include' -I'/usr/local/lib/R/4.3/site-library/progress/include' -I/usr/local/opt/gettext/include -I/usr/local/opt/readline/include -I/usr/local/opt/xz/include -I/usr/local/include    -fPIC  -g -O2  -c Read.cpp -o Read.o\n",
      "clang -I\"/usr/local/Cellar/r/4.3.2/lib/R/include\" -DNDEBUG -Iunix -I. -I'/usr/local/lib/R/4.3/site-library/cpp11/include' -I'/usr/local/lib/R/4.3/site-library/progress/include' -I/usr/local/opt/gettext/include -I/usr/local/opt/readline/include -I/usr/local/opt/xz/include -I/usr/local/include    -fPIC  -g -O2  -c cran.c -o cran.o\n",
      "clang -I\"/usr/local/Cellar/r/4.3.2/lib/R/include\" -DNDEBUG -Iunix -I. -I'/usr/local/lib/R/4.3/site-library/cpp11/include' -I'/usr/local/lib/R/4.3/site-library/progress/include' -I/usr/local/opt/gettext/include -I/usr/local/opt/readline/include -I/usr/local/opt/xz/include -I/usr/local/include    -fPIC  -g -O2  -c libxls/xlstool.c -o libxls/xlstool.o\n",
      "clang -I\"/usr/local/Cellar/r/4.3.2/lib/R/include\" -DNDEBUG -Iunix -I. -I'/usr/local/lib/R/4.3/site-library/cpp11/include' -I'/usr/local/lib/R/4.3/site-library/progress/include' -I/usr/local/opt/gettext/include -I/usr/local/opt/readline/include -I/usr/local/opt/xz/include -I/usr/local/include    -fPIC  -g -O2  -c libxls/endian.c -o libxls/endian.o\n",
      "clang -I\"/usr/local/Cellar/r/4.3.2/lib/R/include\" -DNDEBUG -Iunix -I. -I'/usr/local/lib/R/4.3/site-library/cpp11/include' -I'/usr/local/lib/R/4.3/site-library/progress/include' -I/usr/local/opt/gettext/include -I/usr/local/opt/readline/include -I/usr/local/opt/xz/include -I/usr/local/include    -fPIC  -g -O2  -c libxls/ole.c -o libxls/ole.o\n",
      "clang -I\"/usr/local/Cellar/r/4.3.2/lib/R/include\" -DNDEBUG -Iunix -I. -I'/usr/local/lib/R/4.3/site-library/cpp11/include' -I'/usr/local/lib/R/4.3/site-library/progress/include' -I/usr/local/opt/gettext/include -I/usr/local/opt/readline/include -I/usr/local/opt/xz/include -I/usr/local/include    -fPIC  -g -O2  -c libxls/xls.c -o libxls/xls.o\n",
      "clang -I\"/usr/local/Cellar/r/4.3.2/lib/R/include\" -DNDEBUG -Iunix -I. -I'/usr/local/lib/R/4.3/site-library/cpp11/include' -I'/usr/local/lib/R/4.3/site-library/progress/include' -I/usr/local/opt/gettext/include -I/usr/local/opt/readline/include -I/usr/local/opt/xz/include -I/usr/local/include    -fPIC  -g -O2  -c libxls/locale.c -o libxls/locale.o\n",
      "clang++ -std=gnu++17 -dynamiclib -Wl,-headerpad_max_install_names -undefined dynamic_lookup -L/usr/local/Cellar/r/4.3.2/lib/R/lib -L/usr/local/opt/gettext/lib -L/usr/local/opt/readline/lib -L/usr/local/opt/xz/lib -L/usr/local/lib -o readxl.so cpp11.o XlsWorkBook.o XlsxWorkBook.o zip.o Read.o cran.o libxls/xlstool.o libxls/endian.o libxls/ole.o libxls/xls.o libxls/locale.o -L/usr/local/Cellar/r/4.3.2/lib/R/lib -lR -lintl -Wl,-framework -Wl,CoreFoundation\n"
     ]
    },
    {
     "name": "stderr",
     "output_type": "stream",
     "text": [
      "ld: warning: -undefined dynamic_lookup may not work with chained fixups\n",
      "installing to /usr/local/lib/R/4.3/site-library/00LOCK-readxl/00new/readxl/libs\n",
      "** R\n",
      "** inst\n",
      "** byte-compile and prepare package for lazy loading\n"
     ]
    },
    {
     "name": "stdout",
     "output_type": "stream",
     "text": [
      "During startup - Warning messages:\n",
      "1: Setting LC_TIME failed, using \"C\" \n",
      "2: Setting LC_MESSAGES failed, using \"C\" \n",
      "3: Setting LC_MONETARY failed, using \"C\" \n"
     ]
    },
    {
     "name": "stderr",
     "output_type": "stream",
     "text": [
      "** help\n",
      "*** installing help indices\n",
      "*** copying figures\n",
      "** building package indices\n"
     ]
    },
    {
     "name": "stdout",
     "output_type": "stream",
     "text": [
      "During startup - Warning messages:\n",
      "1: Setting LC_TIME failed, using \"C\" \n",
      "2: Setting LC_MESSAGES failed, using \"C\" \n",
      "3: Setting LC_MONETARY failed, using \"C\" \n"
     ]
    },
    {
     "name": "stderr",
     "output_type": "stream",
     "text": [
      "** installing vignettes\n",
      "** testing if installed package can be loaded from temporary location\n"
     ]
    },
    {
     "name": "stdout",
     "output_type": "stream",
     "text": [
      "During startup - Warning messages:\n",
      "1: Setting LC_TIME failed, using \"C\" \n",
      "2: Setting LC_MESSAGES failed, using \"C\" \n",
      "3: Setting LC_MONETARY failed, using \"C\" \n"
     ]
    },
    {
     "name": "stderr",
     "output_type": "stream",
     "text": [
      "** checking absolute paths in shared objects and dynamic libraries\n",
      "** testing if installed package can be loaded from final location\n"
     ]
    },
    {
     "name": "stdout",
     "output_type": "stream",
     "text": [
      "During startup - Warning messages:\n",
      "1: Setting LC_TIME failed, using \"C\" \n",
      "2: Setting LC_MESSAGES failed, using \"C\" \n",
      "3: Setting LC_MONETARY failed, using \"C\" \n"
     ]
    },
    {
     "name": "stderr",
     "output_type": "stream",
     "text": [
      "** testing if installed package keeps a record of temporary installation path\n",
      "* DONE (readxl)\n"
     ]
    },
    {
     "data": {
      "text/plain": [
       "Installing package into ‘/usr/local/lib/R/4.3/site-library’\n",
       "(as ‘lib’ is unspecified)\n",
       "trying URL 'https://ftp.acc.umu.se/mirror/CRAN/src/contrib/readxl_1.4.3.tar.gz'\n",
       "Content type 'application/x-gzip' length 2093488 bytes (2.0 MB)\n",
       "==================================================\n",
       "downloaded 2.0 MB\n",
       "\n",
       "\n",
       "The downloaded source packages are in\n",
       "\t‘/private/var/folders/q8/p2jc4d5j7gq1vv276dfk9b480000gn/T/RtmptXY6DW/downloaded_packages’\n"
      ]
     },
     "metadata": {},
     "output_type": "display_data"
    }
   ],
   "source": [
    "%%R \n",
    "\n",
    "install.packages(\"readxl\")\n"
   ]
  },
  {
   "cell_type": "code",
   "execution_count": 6,
   "metadata": {},
   "outputs": [],
   "source": [
    "%%R \n",
    "library(readxl)"
   ]
  },
  {
   "cell_type": "code",
   "execution_count": 7,
   "metadata": {},
   "outputs": [],
   "source": [
    "%%R \n",
    "data <- read_excel(\"merged.xlsx\")"
   ]
  },
  {
   "cell_type": "code",
   "execution_count": 8,
   "metadata": {},
   "outputs": [
    {
     "data": {
      "text/plain": [
       "'function (..., list = character(), package = NULL, lib.loc = NULL, \\n    verbose = getOption(\"verbose\"), envir = .GlobalEnv, overwrite = TRUE) \\n{\\n    fileExt <- function(x) {\\n        db <- grepl(\"\\\\\\\\.[^.]+\\\\\\\\.(gz|bz2|xz)$\", x)\\n        ans <- sub(\".*\\\\\\\\.\", \"\", x)\\n        ans[db] <- sub(\".*\\\\\\\\.([^.]+\\\\\\\\.)(gz|bz2|xz)$\", \"\\\\\\\\1\\\\\\\\2\", \\n            x[db])\\n        ans\\n    }\\n    my_read_table <- function(...) {\\n        lcc <- Sys.getlocale(\"LC_COLLATE\")\\n        on.exit(Sys.setlocale(\"LC_COLLATE\", lcc))\\n        Sys.setlocale(\"LC_COLLATE\", \"C\")\\n        read.table(...)\\n    }\\n    stopifnot(is.character(list))\\n    names <- c(as.character(substitute(list(...))[-1L]), list)\\n    if (!is.null(package)) {\\n        if (!is.character(package)) \\n            stop(\"\\'package\\' must be a character vector or NULL\")\\n    }\\n    paths <- find.package(package, lib.loc, verbose = verbose)\\n    if (is.null(lib.loc)) \\n        paths <- c(path.package(package, TRUE), if (!length(package)) getwd(), \\n            paths)\\n    paths <- unique(normalizePath(paths[file.exists(paths)]))\\n    paths <- paths[dir.exists(file.path(paths, \"data\"))]\\n    dataExts <- tools:::.make_file_exts(\"data\")\\n    if (length(names) == 0L) {\\n        db <- matrix(character(), nrow = 0L, ncol = 4L)\\n        for (path in paths) {\\n            entries <- NULL\\n            packageName <- if (file_test(\"-f\", file.path(path, \\n                \"DESCRIPTION\"))) \\n                basename(path)\\n            else \".\"\\n            if (file_test(\"-f\", INDEX <- file.path(path, \"Meta\", \\n                \"data.rds\"))) {\\n                entries <- readRDS(INDEX)\\n            }\\n            else {\\n                dataDir <- file.path(path, \"data\")\\n                entries <- tools::list_files_with_type(dataDir, \\n                  \"data\")\\n                if (length(entries)) {\\n                  entries <- unique(tools::file_path_sans_ext(basename(entries)))\\n                  entries <- cbind(entries, \"\")\\n                }\\n            }\\n            if (NROW(entries)) {\\n                if (is.matrix(entries) && ncol(entries) == 2L) \\n                  db <- rbind(db, cbind(packageName, dirname(path), \\n                    entries))\\n                else warning(gettextf(\"data index for package %s is invalid and will be ignored\", \\n                  sQuote(packageName)), domain = NA, call. = FALSE)\\n            }\\n        }\\n        colnames(db) <- c(\"Package\", \"LibPath\", \"Item\", \"Title\")\\n        footer <- if (missing(package)) \\n            paste0(\"Use \", sQuote(paste(\"data(package =\", \".packages(all.available = TRUE))\")), \\n                \"\\\\n\", \"to list the data sets in all *available* packages.\")\\n        else NULL\\n        y <- list(title = \"Data sets\", header = NULL, results = db, \\n            footer = footer)\\n        class(y) <- \"packageIQR\"\\n        return(y)\\n    }\\n    paths <- file.path(paths, \"data\")\\n    for (name in names) {\\n        found <- FALSE\\n        for (p in paths) {\\n            tmp_env <- if (overwrite) \\n                envir\\n            else new.env()\\n            if (file_test(\"-f\", file.path(p, \"Rdata.rds\"))) {\\n                rds <- readRDS(file.path(p, \"Rdata.rds\"))\\n                if (name %in% names(rds)) {\\n                  found <- TRUE\\n                  if (verbose) \\n                    message(sprintf(\"name=%s:\\\\t found in Rdata.rds\", \\n                      name), domain = NA)\\n                  thispkg <- sub(\".*/([^/]*)/data$\", \"\\\\\\\\1\", p)\\n                  thispkg <- sub(\"_.*$\", \"\", thispkg)\\n                  thispkg <- paste0(\"package:\", thispkg)\\n                  objs <- rds[[name]]\\n                  lazyLoad(file.path(p, \"Rdata\"), envir = tmp_env, \\n                    filter = function(x) x %in% objs)\\n                  break\\n                }\\n                else if (verbose) \\n                  message(sprintf(\"name=%s:\\\\t NOT found in names() of Rdata.rds, i.e.,\\\\n\\\\t%s\\\\n\", \\n                    name, paste(names(rds), collapse = \",\")), \\n                    domain = NA)\\n            }\\n            if (file_test(\"-f\", file.path(p, \"Rdata.zip\"))) {\\n                warning(\"zipped data found for package \", sQuote(basename(dirname(p))), \\n                  \".\\\\nThat is defunct, so please re-install the package.\", \\n                  domain = NA)\\n                if (file_test(\"-f\", fp <- file.path(p, \"filelist\"))) \\n                  files <- file.path(p, scan(fp, what = \"\", quiet = TRUE))\\n                else {\\n                  warning(gettextf(\"file \\'filelist\\' is missing for directory %s\", \\n                    sQuote(p)), domain = NA)\\n                  next\\n                }\\n            }\\n            else {\\n                files <- list.files(p, full.names = TRUE)\\n            }\\n            files <- files[grep(name, files, fixed = TRUE)]\\n            if (length(files) > 1L) {\\n                o <- match(fileExt(files), dataExts, nomatch = 100L)\\n                paths0 <- dirname(files)\\n                paths0 <- factor(paths0, levels = unique(paths0))\\n                files <- files[order(paths0, o)]\\n            }\\n            if (length(files)) {\\n                for (file in files) {\\n                  if (verbose) \\n                    message(\"name=\", name, \":\\\\t file= ...\", .Platform$file.sep, \\n                      basename(file), \"::\\\\t\", appendLF = FALSE, \\n                      domain = NA)\\n                  ext <- fileExt(file)\\n                  if (basename(file) != paste0(name, \".\", ext)) \\n                    found <- FALSE\\n                  else {\\n                    found <- TRUE\\n                    zfile <- file\\n                    zipname <- file.path(dirname(file), \"Rdata.zip\")\\n                    if (file.exists(zipname)) {\\n                      Rdatadir <- tempfile(\"Rdata\")\\n                      dir.create(Rdatadir, showWarnings = FALSE)\\n                      topic <- basename(file)\\n                      rc <- .External(C_unzip, zipname, topic, \\n                        Rdatadir, FALSE, TRUE, FALSE, FALSE)\\n                      if (rc == 0L) \\n                        zfile <- file.path(Rdatadir, topic)\\n                    }\\n                    if (zfile != file) \\n                      on.exit(unlink(zfile))\\n                    switch(ext, R = , r = {\\n                      library(\"utils\")\\n                      sys.source(zfile, chdir = TRUE, envir = tmp_env)\\n                    }, RData = , rdata = , rda = load(zfile, \\n                      envir = tmp_env), TXT = , txt = , tab = , \\n                      tab.gz = , tab.bz2 = , tab.xz = , txt.gz = , \\n                      txt.bz2 = , txt.xz = assign(name, my_read_table(zfile, \\n                        header = TRUE, as.is = FALSE), envir = tmp_env), \\n                      CSV = , csv = , csv.gz = , csv.bz2 = , \\n                      csv.xz = assign(name, my_read_table(zfile, \\n                        header = TRUE, sep = \";\", as.is = FALSE), \\n                        envir = tmp_env), found <- FALSE)\\n                  }\\n                  if (found) \\n                    break\\n                }\\n                if (verbose) \\n                  message(if (!found) \\n                    \"*NOT* \", \"found\", domain = NA)\\n            }\\n            if (found) \\n                break\\n        }\\n        if (!found) {\\n            warning(gettextf(\"data set %s not found\", sQuote(name)), \\n                domain = NA)\\n        }\\n        else if (!overwrite) {\\n            for (o in ls(envir = tmp_env, all.names = TRUE)) {\\n                if (exists(o, envir = envir, inherits = FALSE)) \\n                  warning(gettextf(\"an object named %s already exists and will not be overwritten\", \\n                    sQuote(o)))\\n                else assign(o, get(o, envir = tmp_env, inherits = FALSE), \\n                  envir = envir)\\n            }\\n            rm(tmp_env)\\n        }\\n    }\\n    invisible(names)\\n}\\n<bytecode: 0x7fe51eb4afc8>\\n<environment: namespace:utils>\\n'"
      ]
     },
     "execution_count": 8,
     "metadata": {},
     "output_type": "execute_result"
    }
   ],
   "source": [
    "str(data)"
   ]
  },
  {
   "cell_type": "code",
   "execution_count": 34,
   "metadata": {},
   "outputs": [
    {
     "name": "stdout",
     "output_type": "stream",
     "text": [
      "tibble [1,842 × 17]"
     ]
    },
    {
     "name": "stdout",
     "output_type": "stream",
     "text": [
      " (S3: tbl_df/tbl/data.frame)\n",
      " $ Name               : chr [1:1842] \"100% Playground\" \"100% Playground\" \"100% Playground\" \"174th Street Playground\" ...\n",
      " $ Location           : chr [1:1842] \"Glenwood Road, East 100 & East 101 streets\" \"Glenwood Road, East 100 & East 101 streets\" \"Glenwood Road, East 100 & East 101 streets\" \"East 174 Street, Stratford Avenue, Bronx River Avenue\" ...\n",
      " $ Open Year-Round    : chr [1:1842] \"Yes\" \"Yes\" \"Yes\" \"Yes\" ...\n",
      " $ Handicap Accessible: chr [1:1842] NA NA NA NA ...\n",
      " $ Borough            : chr [1:1842] \"Brooklyn\" \"Brooklyn\" \"Brooklyn\" \"Bronx\" ...\n",
      " $ Comments           : chr [1:1842] NA NA NA NA ...\n",
      " $ Latitude           : num [1:1842] 40.6 40.6 40.6 40.8 40.8 ...\n",
      " $ Longitude          : num [1:1842] -73.9 -73.9 -73.9 -73.9 -73.9 ...\n",
      " $ GEOID              : chr [1:1842] \"36047097400\" \"36047097400\" \"36047097400\" \"36005006200\" ...\n",
      " $ STATE              : num [1:1842] 36 36 36 36 36 36 36 36 36 36 ...\n",
      " $ COUNTY             : num [1:1842] 47 47 47 5 5 5 5 5 5 5 ...\n",
      " $ TRACT              : num [1:1842] 97400 97400 97400 6200 6200 6200 40600 40600 40600 40600 ...\n",
      " $ BLOCK              : num [1:1842] 2002 2002 2002 3000 3000 ...\n",
      " $ NAME               : chr [1:1842] \"Census Tract 974, Kings County, New York\" \"Census Tract 974, Kings County, New York\" \"Census Tract 974, Kings County, New York\" \"Census Tract 62, Bronx County, New York\" ...\n",
      " $ variable           : chr [1:1842] \"population\" \"poverty\" \"med_inc\" \"population\" ...\n",
      " $ estimate           : num [1:1842] 2792 2464 76767 6710 6710 ...\n",
      " $ moe                : num [1:1842] 536 417 17732 809 809 ...\n",
      "          Latitude Longitude STATE COUNTY TRACT BLOCK estimate moe\n",
      "Latitude      1.00      0.37    NA  -0.51 -0.15  0.09       NA  NA\n",
      "Longitude     0.37      1.00    NA  -0.03  0.55 -0.06       NA  NA\n",
      "STATE           NA        NA     1     NA    NA    NA       NA  NA\n",
      "COUNTY       -0.51     -0.03    NA   1.00  0.25 -0.02       NA  NA\n",
      "TRACT        -0.15      0.55    NA   0.25  1.00 -0.06       NA  NA\n",
      "BLOCK         0.09     -0.06    NA  -0.02 -0.06  1.00       NA  NA\n",
      "estimate        NA        NA    NA     NA    NA    NA        1  NA\n",
      "moe             NA        NA    NA     NA    NA    NA       NA   1\n"
     ]
    },
    {
     "data": {
      "text/plain": [
       "In addition: Warning message:\n",
       "In cor(numeric_data) : the standard deviation is zero\n"
      ]
     },
     "metadata": {},
     "output_type": "display_data"
    }
   ],
   "source": [
    "%%R \n",
    "\n",
    "library(dplyr)\n",
    "\n",
    "str(data)\n",
    "numeric_data <- select_if(data, is.numeric)\n",
    "cor_matrix <- cor(numeric_data)\n",
    "rounded_cor_matrix <- round(cor_matrix, 2)\n",
    "\n",
    "print(rounded_cor_matrix)\n"
   ]
  },
  {
   "cell_type": "code",
   "execution_count": 35,
   "metadata": {},
   "outputs": [
    {
     "data": {
      "text/plain": [
       "In addition: Warning message:\n",
       "Values from `estimate` are not uniquely identified; output will contain\n",
       "list-cols.\n",
       "• Use `values_fn = list` to suppress this warning.\n",
       "• Use `values_fn = {summary_fun}` to summarise duplicates.\n",
       "• Use the following dplyr code to identify duplicates.\n",
       "  {data} |>\n",
       "  dplyr::summarise(n = dplyr::n(), .by = c(Name, Location, `Open Year-Round`,\n",
       "  `Handicap Accessible`, Borough, Comments, Latitude, Longitude, GEOID, STATE,\n",
       "  COUNTY, TRACT, BLOCK, NAME, moe, variable)) |>\n",
       "  dplyr::filter(n > 1L) \n"
      ]
     },
     "metadata": {},
     "output_type": "display_data"
    }
   ],
   "source": [
    "%%R \n",
    "\n",
    "library(tidyr)\n",
    "library(dplyr)\n",
    "\n",
    "data_wide <- data %>%\n",
    "  pivot_wider(names_from = variable, values_from = estimate)\n",
    "\n",
    "# The resulting data_wide dataframe should have individual columns for population, poverty, and med_inc, among others.\n"
   ]
  },
  {
   "cell_type": "code",
   "execution_count": 21,
   "metadata": {},
   "outputs": [
    {
     "name": "stdout",
     "output_type": "stream",
     "text": [
      "tibble [1,531 × 18] (S3: tbl_df/tbl/data.frame)\n",
      " $ Name               : chr [1:1531] \"100% Playground\" \"100% Playground\" \"100% Playground\" \"174th Street Playground\" ...\n",
      " $ Location           : chr [1:1531] \"Glenwood Road, East 100 & East 101 streets\" \"Glenwood Road, East 100 & East 101 streets\" \"Glenwood Road, East 100 & East 101 streets\" \"East 174 Street, Stratford Avenue, Bronx River Avenue\" ...\n",
      " $ Open Year-Round    : chr [1:1531] \"Yes\" \"Yes\" \"Yes\" \"Yes\" ...\n",
      " $ Handicap Accessible: chr [1:1531] NA NA NA NA ...\n",
      " $ Borough            : chr [1:1531] \"Brooklyn\" \"Brooklyn\" \"Brooklyn\" \"Bronx\" ...\n",
      " $ Comments           : chr [1:1531] NA NA NA NA ...\n",
      " $ Latitude           : num [1:1531] 40.6 40.6 40.6 40.8 40.8 ...\n",
      " $ Longitude          : num [1:1531] -73.9 -73.9 -73.9 -73.9 -73.9 ...\n",
      " $ GEOID              : chr [1:1531] \"36047097400\" \"36047097400\" \"36047097400\" \"36005006200\" ...\n",
      " $ STATE              : num [1:1531] 36 36 36 36 36 36 36 36 36 36 ...\n",
      " $ COUNTY             : num [1:1531] 47 47 47 5 5 5 5 5 5 5 ...\n",
      " $ TRACT              : num [1:1531] 97400 97400 97400 6200 6200 40600 40600 40600 40600 40600 ...\n",
      " $ BLOCK              : num [1:1531] 2002 2002 2002 3000 3000 ...\n",
      " $ NAME               : chr [1:1531] \"Census Tract 974, Kings County, New York\" \"Census Tract 974, Kings County, New York\" \"Census Tract 974, Kings County, New York\" \"Census Tract 62, Bronx County, New York\" ...\n",
      " $ moe                : num [1:1531] 536 417 17732 809 9198 ...\n",
      " $ population         :List of 1531\n",
      "  ..$ : num 2792\n",
      "  ..$ : NULL\n",
      "  ..$ : NULL\n",
      "  ..$ : num 6710\n",
      "  ..$ : NULL\n",
      "  ..$ : num 3997\n",
      "  ..$ : NULL\n",
      "  ..$ : NULL\n",
      "  ..$ : num 3997\n",
      "  ..$ : NULL\n",
      "  ..$ : NULL\n",
      "  ..$ : num 7984\n",
      "  ..$ : NULL\n",
      "  ..$ : NULL\n",
      "  ..$ : num 7984\n",
      "  ..$ : NULL\n",
      "  ..$ : NULL\n",
      "  ..$ : num 7157\n",
      "  ..$ : NULL\n",
      "  ..$ : NULL\n",
      "  ..$ : num 3108\n",
      "  ..$ : NULL\n",
      "  ..$ : num 4036\n",
      "  ..$ : NULL\n",
      "  ..$ : num 5111\n",
      "  ..$ : NULL\n",
      "  ..$ : NULL\n",
      "  ..$ : num 5111\n",
      "  ..$ : NULL\n",
      "  ..$ : NULL\n",
      "  ..$ : num 5111\n",
      "  ..$ : NULL\n",
      "  ..$ : NULL\n",
      "  ..$ : num 5111\n",
      "  ..$ : NULL\n",
      "  ..$ : NULL\n",
      "  ..$ : num 4033\n",
      "  ..$ : NULL\n",
      "  ..$ : num 5289\n",
      "  ..$ : NULL\n",
      "  ..$ : NULL\n",
      "  ..$ : num 5513\n",
      "  ..$ : NULL\n",
      "  ..$ : NULL\n",
      "  ..$ : num 2149\n",
      "  ..$ : NULL\n",
      "  ..$ : NULL\n",
      "  ..$ : num 7882\n",
      "  ..$ : NULL\n",
      "  ..$ : NULL\n",
      "  ..$ : num 7882\n",
      "  ..$ : NULL\n",
      "  ..$ : NULL\n",
      "  ..$ : num 0\n",
      "  ..$ : NULL\n",
      "  ..$ : num 0\n",
      "  ..$ : NULL\n",
      "  ..$ : num 1652\n",
      "  ..$ : NULL\n",
      "  ..$ : NULL\n",
      "  ..$ : num 4515\n",
      "  ..$ : NULL\n",
      "  ..$ : num 5070\n",
      "  ..$ : NULL\n",
      "  ..$ : NULL\n",
      "  ..$ : num 3432\n",
      "  ..$ : NULL\n",
      "  ..$ : NULL\n",
      "  ..$ : num 4187\n",
      "  ..$ : NULL\n",
      "  ..$ : NULL\n",
      "  ..$ : num 3044\n",
      "  ..$ : NULL\n",
      "  ..$ : NULL\n",
      "  ..$ : num 4781\n",
      "  ..$ : NULL\n",
      "  ..$ : NULL\n",
      "  ..$ : num 0\n",
      "  ..$ : NULL\n",
      "  ..$ : num 0\n",
      "  ..$ : NULL\n",
      "  ..$ : num 0\n",
      "  ..$ : NULL\n",
      "  ..$ : num 0\n",
      "  ..$ : NULL\n",
      "  ..$ : num 6768\n",
      "  ..$ : NULL\n",
      "  ..$ : NULL\n",
      "  ..$ : num 3143\n",
      "  ..$ : NULL\n",
      "  ..$ : NULL\n",
      "  ..$ : num 4461\n",
      "  ..$ : NULL\n",
      "  ..$ : NULL\n",
      "  ..$ : num 4385\n",
      "  ..$ : NULL\n",
      "  ..$ : NULL\n",
      "  ..$ : num 5875\n",
      "  ..$ : NULL\n",
      "  .. [list output truncated]\n",
      " $ poverty            :List of 1531\n",
      "  ..$ : NULL\n",
      "  ..$ : num 2464\n",
      "  ..$ : NULL\n",
      "  ..$ : num 6710\n",
      "  ..$ : NULL\n",
      "  ..$ : NULL\n",
      "  ..$ : num 3990\n",
      "  ..$ : NULL\n",
      "  ..$ : NULL\n",
      "  ..$ : num 3990\n",
      "  ..$ : NULL\n",
      "  ..$ : NULL\n",
      "  ..$ : num 7921\n",
      "  ..$ : NULL\n",
      "  ..$ : NULL\n",
      "  ..$ : num 7921\n",
      "  ..$ : NULL\n",
      "  ..$ : NULL\n",
      "  ..$ : num 7151\n",
      "  ..$ : NULL\n",
      "  ..$ : num 3108\n",
      "  ..$ : NULL\n",
      "  ..$ : num 4036\n",
      "  ..$ : NULL\n",
      "  ..$ : NULL\n",
      "  ..$ : num 5004\n",
      "  ..$ : NULL\n",
      "  ..$ : NULL\n",
      "  ..$ : num 5004\n",
      "  ..$ : NULL\n",
      "  ..$ : NULL\n",
      "  ..$ : num 5004\n",
      "  ..$ : NULL\n",
      "  ..$ : NULL\n",
      "  ..$ : num 5004\n",
      "  ..$ : NULL\n",
      "  ..$ : num 4033\n",
      "  ..$ : NULL\n",
      "  ..$ : NULL\n",
      "  ..$ : num 5267\n",
      "  ..$ : NULL\n",
      "  ..$ : NULL\n",
      "  ..$ : num 5500\n",
      "  ..$ : NULL\n",
      "  ..$ : NULL\n",
      "  ..$ : num 1991\n",
      "  ..$ : NULL\n",
      "  ..$ : NULL\n",
      "  ..$ : num 7824\n",
      "  ..$ : NULL\n",
      "  ..$ : NULL\n",
      "  ..$ : num 7824\n",
      "  ..$ : NULL\n",
      "  ..$ : num 0\n",
      "  ..$ : NULL\n",
      "  ..$ : num 0\n",
      "  ..$ : NULL\n",
      "  ..$ : NULL\n",
      "  ..$ : num 1297\n",
      "  ..$ : NULL\n",
      "  ..$ : num 4513\n",
      "  ..$ : NULL\n",
      "  ..$ : NULL\n",
      "  ..$ : num 4954\n",
      "  ..$ : NULL\n",
      "  ..$ : NULL\n",
      "  ..$ : num 3397\n",
      "  ..$ : NULL\n",
      "  ..$ : NULL\n",
      "  ..$ : num 4136\n",
      "  ..$ : NULL\n",
      "  ..$ : NULL\n",
      "  ..$ : num 3024\n",
      "  ..$ : NULL\n",
      "  ..$ : NULL\n",
      "  ..$ : num 4742\n",
      "  ..$ : NULL\n",
      "  ..$ : num 0\n",
      "  ..$ : NULL\n",
      "  ..$ : num 0\n",
      "  ..$ : NULL\n",
      "  ..$ : num 0\n",
      "  ..$ : NULL\n",
      "  ..$ : num 0\n",
      "  ..$ : NULL\n",
      "  ..$ : NULL\n",
      "  ..$ : num 6747\n",
      "  ..$ : NULL\n",
      "  ..$ : NULL\n",
      "  ..$ : num 3091\n",
      "  ..$ : NULL\n",
      "  ..$ : NULL\n",
      "  ..$ : num 4460\n",
      "  ..$ : NULL\n",
      "  ..$ : NULL\n",
      "  ..$ : num 3515\n",
      "  ..$ : NULL\n",
      "  ..$ : num 5875\n",
      "  ..$ : NULL\n",
      "  .. [list output truncated]\n",
      " $ med_inc            :List of 1531\n",
      "  ..$ : NULL\n",
      "  ..$ : NULL\n",
      "  ..$ : num 76767\n",
      "  ..$ : NULL\n",
      "  ..$ : num 24769\n",
      "  ..$ : NULL\n",
      "  ..$ : NULL\n",
      "  ..$ : num 45982\n",
      "  ..$ : NULL\n",
      "  ..$ : NULL\n",
      "  ..$ : num 45982\n",
      "  ..$ : NULL\n",
      "  ..$ : NULL\n",
      "  ..$ : num 153854\n",
      "  ..$ : NULL\n",
      "  ..$ : NULL\n",
      "  ..$ : num 153854\n",
      "  ..$ : NULL\n",
      "  ..$ : NULL\n",
      "  ..$ : num 22534\n",
      "  ..$ : NULL\n",
      "  ..$ : num 52386\n",
      "  ..$ : NULL\n",
      "  ..$ : num 67580\n",
      "  ..$ : NULL\n",
      "  ..$ : NULL\n",
      "  ..$ : num 90828\n",
      "  ..$ : NULL\n",
      "  ..$ : NULL\n",
      "  ..$ : num 90828\n",
      "  ..$ : NULL\n",
      "  ..$ : NULL\n",
      "  ..$ : num 90828\n",
      "  ..$ : NULL\n",
      "  ..$ : NULL\n",
      "  ..$ : num 90828\n",
      "  ..$ : NULL\n",
      "  ..$ : num 71436\n",
      "  ..$ : NULL\n",
      "  ..$ : NULL\n",
      "  ..$ : num 21381\n",
      "  ..$ : NULL\n",
      "  ..$ : NULL\n",
      "  ..$ : num 37115\n",
      "  ..$ : NULL\n",
      "  ..$ : NULL\n",
      "  ..$ : num 118250\n",
      "  ..$ : NULL\n",
      "  ..$ : NULL\n",
      "  ..$ : num 90238\n",
      "  ..$ : NULL\n",
      "  ..$ : NULL\n",
      "  ..$ : num 90238\n",
      "  ..$ : NULL\n",
      "  ..$ : num NA\n",
      "  ..$ : NULL\n",
      "  ..$ : num NA\n",
      "  ..$ : NULL\n",
      "  ..$ : NULL\n",
      "  ..$ : num 61406\n",
      "  ..$ : NULL\n",
      "  ..$ : num 92654\n",
      "  ..$ : NULL\n",
      "  ..$ : NULL\n",
      "  ..$ : num 64565\n",
      "  ..$ : NULL\n",
      "  ..$ : NULL\n",
      "  ..$ : num 110673\n",
      "  ..$ : NULL\n",
      "  ..$ : NULL\n",
      "  ..$ : num 69886\n",
      "  ..$ : NULL\n",
      "  ..$ : NULL\n",
      "  ..$ : num 155154\n",
      "  ..$ : NULL\n",
      "  ..$ : NULL\n",
      "  ..$ : num 76318\n",
      "  ..$ : NULL\n",
      "  ..$ : num NA\n",
      "  ..$ : NULL\n",
      "  ..$ : num NA\n",
      "  ..$ : NULL\n",
      "  ..$ : num NA\n",
      "  ..$ : NULL\n",
      "  ..$ : num NA\n",
      "  ..$ : NULL\n",
      "  ..$ : NULL\n",
      "  ..$ : num 25767\n",
      "  ..$ : NULL\n",
      "  ..$ : NULL\n",
      "  ..$ : num 80764\n",
      "  ..$ : NULL\n",
      "  ..$ : NULL\n",
      "  ..$ : num 81250\n",
      "  ..$ : NULL\n",
      "  ..$ : NULL\n",
      "  ..$ : num 1e+05\n",
      "  ..$ : NULL\n",
      "  ..$ : num 55995\n",
      "  .. [list output truncated]\n"
     ]
    }
   ],
   "source": [
    "%%R \n",
    "\n",
    "str(data_wide)\n"
   ]
  },
  {
   "cell_type": "code",
   "execution_count": 41,
   "metadata": {},
   "outputs": [
    {
     "name": "stdout",
     "output_type": "stream",
     "text": [
      "Error in lm.fit(x, y, offset = offset, singular.ok = singular.ok, ...) : \n",
      "  incompatible dimensions\n"
     ]
    },
    {
     "ename": "RInterpreterError",
     "evalue": "Failed to parse and evaluate line '\\n# Fit the linear regression model\\n# Assuming `Open Year-Round` is a Yes/No variable and will be treated as such\\nmodel <- lm( ~ COUNTY + STATE, data = data_wide)\\n\\n# Display the summary of the model\\nsummary(model)\\n'.\nR error message: 'Error in lm.fit(x, y, offset = offset, singular.ok = singular.ok, ...) : \\n  incompatible dimensions'",
     "output_type": "error",
     "traceback": [
      "\u001b[0;31m---------------------------------------------------------------------------\u001b[0m",
      "\u001b[0;31mRRuntimeError\u001b[0m                             Traceback (most recent call last)",
      "File \u001b[0;32m~/.pyenv/versions/3.11.6/lib/python3.11/site-packages/rpy2/ipython/rmagic.py:407\u001b[0m, in \u001b[0;36mRMagics.eval\u001b[0;34m(self, code)\u001b[0m\n\u001b[1;32m    406\u001b[0m     r_expr \u001b[38;5;241m=\u001b[39m ri\u001b[38;5;241m.\u001b[39mparse(code)\n\u001b[0;32m--> 407\u001b[0m     value, visible \u001b[38;5;241m=\u001b[39m \u001b[43mri\u001b[49m\u001b[38;5;241;43m.\u001b[39;49m\u001b[43mevalr_expr_with_visible\u001b[49m\u001b[43m(\u001b[49m\n\u001b[1;32m    408\u001b[0m \u001b[43m        \u001b[49m\u001b[43mr_expr\u001b[49m\n\u001b[1;32m    409\u001b[0m \u001b[43m    \u001b[49m\u001b[43m)\u001b[49m\n\u001b[1;32m    410\u001b[0m \u001b[38;5;28;01mexcept\u001b[39;00m (ri\u001b[38;5;241m.\u001b[39membedded\u001b[38;5;241m.\u001b[39mRRuntimeError, \u001b[38;5;167;01mValueError\u001b[39;00m) \u001b[38;5;28;01mas\u001b[39;00m exception:\n\u001b[1;32m    411\u001b[0m     \u001b[38;5;66;03m# Otherwise next return seems to have copy of error.\u001b[39;00m\n",
      "File \u001b[0;32m~/.pyenv/versions/3.11.6/lib/python3.11/site-packages/rpy2/rinterface.py:196\u001b[0m, in \u001b[0;36mevalr_expr_with_visible\u001b[0;34m(expr, envir)\u001b[0m\n\u001b[1;32m    195\u001b[0m \u001b[38;5;28;01mif\u001b[39;00m error_occured[\u001b[38;5;241m0\u001b[39m]:\n\u001b[0;32m--> 196\u001b[0m     \u001b[38;5;28;01mraise\u001b[39;00m embedded\u001b[38;5;241m.\u001b[39mRRuntimeError(_rinterface\u001b[38;5;241m.\u001b[39m_geterrmessage())\n\u001b[1;32m    197\u001b[0m res \u001b[38;5;241m=\u001b[39m conversion\u001b[38;5;241m.\u001b[39m_cdata_to_rinterface(r_res)\n",
      "\u001b[0;31mRRuntimeError\u001b[0m: Error in lm.fit(x, y, offset = offset, singular.ok = singular.ok, ...) : \n  incompatible dimensions\n",
      "\nDuring handling of the above exception, another exception occurred:\n",
      "\u001b[0;31mRInterpreterError\u001b[0m                         Traceback (most recent call last)",
      "Cell \u001b[0;32mIn[41], line 1\u001b[0m\n\u001b[0;32m----> 1\u001b[0m \u001b[43mget_ipython\u001b[49m\u001b[43m(\u001b[49m\u001b[43m)\u001b[49m\u001b[38;5;241;43m.\u001b[39;49m\u001b[43mrun_cell_magic\u001b[49m\u001b[43m(\u001b[49m\u001b[38;5;124;43m'\u001b[39;49m\u001b[38;5;124;43mR\u001b[39;49m\u001b[38;5;124;43m'\u001b[39;49m\u001b[43m,\u001b[49m\u001b[43m \u001b[49m\u001b[38;5;124;43m'\u001b[39;49m\u001b[38;5;124;43m'\u001b[39;49m\u001b[43m,\u001b[49m\u001b[43m \u001b[49m\u001b[38;5;124;43m'\u001b[39;49m\u001b[38;5;130;43;01m\\n\u001b[39;49;00m\u001b[38;5;124;43m# Fit the linear regression model\u001b[39;49m\u001b[38;5;130;43;01m\\n\u001b[39;49;00m\u001b[38;5;124;43m# Assuming `Open Year-Round` is a Yes/No variable and will be treated as such\u001b[39;49m\u001b[38;5;130;43;01m\\n\u001b[39;49;00m\u001b[38;5;124;43mmodel <- lm( ~ COUNTY + STATE, data = data_wide)\u001b[39;49m\u001b[38;5;130;43;01m\\n\u001b[39;49;00m\u001b[38;5;130;43;01m\\n\u001b[39;49;00m\u001b[38;5;124;43m# Display the summary of the model\u001b[39;49m\u001b[38;5;130;43;01m\\n\u001b[39;49;00m\u001b[38;5;124;43msummary(model)\u001b[39;49m\u001b[38;5;130;43;01m\\n\u001b[39;49;00m\u001b[38;5;124;43m'\u001b[39;49m\u001b[43m)\u001b[49m\n",
      "File \u001b[0;32m~/.pyenv/versions/3.11.6/lib/python3.11/site-packages/IPython/core/interactiveshell.py:2517\u001b[0m, in \u001b[0;36mInteractiveShell.run_cell_magic\u001b[0;34m(self, magic_name, line, cell)\u001b[0m\n\u001b[1;32m   2515\u001b[0m \u001b[38;5;28;01mwith\u001b[39;00m \u001b[38;5;28mself\u001b[39m\u001b[38;5;241m.\u001b[39mbuiltin_trap:\n\u001b[1;32m   2516\u001b[0m     args \u001b[38;5;241m=\u001b[39m (magic_arg_s, cell)\n\u001b[0;32m-> 2517\u001b[0m     result \u001b[38;5;241m=\u001b[39m \u001b[43mfn\u001b[49m\u001b[43m(\u001b[49m\u001b[38;5;241;43m*\u001b[39;49m\u001b[43margs\u001b[49m\u001b[43m,\u001b[49m\u001b[43m \u001b[49m\u001b[38;5;241;43m*\u001b[39;49m\u001b[38;5;241;43m*\u001b[39;49m\u001b[43mkwargs\u001b[49m\u001b[43m)\u001b[49m\n\u001b[1;32m   2519\u001b[0m \u001b[38;5;66;03m# The code below prevents the output from being displayed\u001b[39;00m\n\u001b[1;32m   2520\u001b[0m \u001b[38;5;66;03m# when using magics with decorator @output_can_be_silenced\u001b[39;00m\n\u001b[1;32m   2521\u001b[0m \u001b[38;5;66;03m# when the last Python token in the expression is a ';'.\u001b[39;00m\n\u001b[1;32m   2522\u001b[0m \u001b[38;5;28;01mif\u001b[39;00m \u001b[38;5;28mgetattr\u001b[39m(fn, magic\u001b[38;5;241m.\u001b[39mMAGIC_OUTPUT_CAN_BE_SILENCED, \u001b[38;5;28;01mFalse\u001b[39;00m):\n",
      "File \u001b[0;32m~/.pyenv/versions/3.11.6/lib/python3.11/site-packages/rpy2/ipython/rmagic.py:984\u001b[0m, in \u001b[0;36mRMagics.R\u001b[0;34m(self, line, cell, local_ns)\u001b[0m\n\u001b[1;32m    982\u001b[0m     \u001b[38;5;28;01mif\u001b[39;00m \u001b[38;5;129;01mnot\u001b[39;00m e\u001b[38;5;241m.\u001b[39mstdout\u001b[38;5;241m.\u001b[39mendswith(e\u001b[38;5;241m.\u001b[39merr):\n\u001b[1;32m    983\u001b[0m         \u001b[38;5;28mprint\u001b[39m(e\u001b[38;5;241m.\u001b[39merr)\n\u001b[0;32m--> 984\u001b[0m     \u001b[38;5;28;01mraise\u001b[39;00m e\n\u001b[1;32m    985\u001b[0m \u001b[38;5;28;01mfinally\u001b[39;00m:\n\u001b[1;32m    986\u001b[0m     \u001b[38;5;28;01mif\u001b[39;00m \u001b[38;5;28mself\u001b[39m\u001b[38;5;241m.\u001b[39mdevice \u001b[38;5;129;01min\u001b[39;00m DEVICES_STATIC:\n",
      "File \u001b[0;32m~/.pyenv/versions/3.11.6/lib/python3.11/site-packages/rpy2/ipython/rmagic.py:949\u001b[0m, in \u001b[0;36mRMagics.R\u001b[0;34m(self, line, cell, local_ns)\u001b[0m\n\u001b[1;32m    947\u001b[0m         return_output \u001b[38;5;241m=\u001b[39m \u001b[38;5;28;01mFalse\u001b[39;00m\n\u001b[1;32m    948\u001b[0m \u001b[38;5;28;01melse\u001b[39;00m:\n\u001b[0;32m--> 949\u001b[0m     text_result, result, visible \u001b[38;5;241m=\u001b[39m \u001b[38;5;28;43mself\u001b[39;49m\u001b[38;5;241;43m.\u001b[39;49m\u001b[43meval\u001b[49m\u001b[43m(\u001b[49m\u001b[43mcode\u001b[49m\u001b[43m)\u001b[49m\n\u001b[1;32m    950\u001b[0m     text_output \u001b[38;5;241m+\u001b[39m\u001b[38;5;241m=\u001b[39m text_result\n\u001b[1;32m    951\u001b[0m     \u001b[38;5;28;01mif\u001b[39;00m visible:\n",
      "File \u001b[0;32m~/.pyenv/versions/3.11.6/lib/python3.11/site-packages/rpy2/ipython/rmagic.py:413\u001b[0m, in \u001b[0;36mRMagics.eval\u001b[0;34m(self, code)\u001b[0m\n\u001b[1;32m    410\u001b[0m \u001b[38;5;28;01mexcept\u001b[39;00m (ri\u001b[38;5;241m.\u001b[39membedded\u001b[38;5;241m.\u001b[39mRRuntimeError, \u001b[38;5;167;01mValueError\u001b[39;00m) \u001b[38;5;28;01mas\u001b[39;00m exception:\n\u001b[1;32m    411\u001b[0m     \u001b[38;5;66;03m# Otherwise next return seems to have copy of error.\u001b[39;00m\n\u001b[1;32m    412\u001b[0m     warning_or_other_msg \u001b[38;5;241m=\u001b[39m \u001b[38;5;28mself\u001b[39m\u001b[38;5;241m.\u001b[39mflush()\n\u001b[0;32m--> 413\u001b[0m     \u001b[38;5;28;01mraise\u001b[39;00m RInterpreterError(code, \u001b[38;5;28mstr\u001b[39m(exception),\n\u001b[1;32m    414\u001b[0m                             warning_or_other_msg)\n\u001b[1;32m    415\u001b[0m \u001b[38;5;28;01mfinally\u001b[39;00m:\n\u001b[1;32m    416\u001b[0m     ro\u001b[38;5;241m.\u001b[39m_print_deferred_warnings()\n",
      "\u001b[0;31mRInterpreterError\u001b[0m: Failed to parse and evaluate line '\\n# Fit the linear regression model\\n# Assuming `Open Year-Round` is a Yes/No variable and will be treated as such\\nmodel <- lm( ~ COUNTY + STATE, data = data_wide)\\n\\n# Display the summary of the model\\nsummary(model)\\n'.\nR error message: 'Error in lm.fit(x, y, offset = offset, singular.ok = singular.ok, ...) : \\n  incompatible dimensions'"
     ]
    }
   ],
   "source": [
    "%%R\n",
    "\n",
    "# Fit the linear regression model\n",
    "# Assuming `Open Year-Round` is a Yes/No variable and will be treated as such\n",
    "model <- lm( ~ COUNTY + STATE, data = data_wide)\n",
    "\n",
    "# Display the summary of the model\n",
    "summary(model)\n"
   ]
  },
  {
   "cell_type": "code",
   "execution_count": 23,
   "metadata": {},
   "outputs": [
    {
     "name": "stdout",
     "output_type": "stream",
     "text": [
      "List of 1531\n",
      " $ : NULL\n",
      " $ : NULL\n",
      " $ : num 76767\n",
      " $ : NULL\n",
      " $ : num 24769\n",
      " $ : NULL\n",
      " $ : NULL\n",
      " $ : num 45982\n",
      " $ : NULL\n",
      " $ : NULL\n",
      " $ : num 45982\n",
      " $ : NULL\n",
      " $ : NULL\n",
      " $ : num 153854\n",
      " $ : NULL\n",
      " $ : NULL\n",
      " $ : num 153854\n",
      " $ : NULL\n",
      " $ : NULL\n",
      " $ : num 22534\n",
      " $ : NULL\n",
      " $ : num 52386\n",
      " $ : NULL\n",
      " $ : num 67580\n",
      " $ : NULL\n",
      " $ : NULL\n",
      " $ : num 90828\n",
      " $ : NULL\n",
      " $ : NULL\n",
      " $ : num 90828\n",
      " $ : NULL\n",
      " $ : NULL\n",
      " $ : num 90828\n",
      " $ : NULL\n",
      " $ : NULL\n",
      " $ : num 90828\n",
      " $ : NULL\n",
      " $ : num 71436\n",
      " $ : NULL\n",
      " $ : NULL\n",
      " $ : num 21381\n",
      " $ : NULL\n",
      " $ : NULL\n",
      " $ : num 37115\n",
      " $ : NULL\n",
      " $ : NULL\n",
      " $ : num 118250\n",
      " $ : NULL\n",
      " $ : NULL\n",
      " $ : num 90238\n",
      " $ : NULL\n",
      " $ : NULL\n",
      " $ : num 90238\n",
      " $ : NULL\n",
      " $ : num NA\n",
      " $ : NULL\n",
      " $ : num NA\n",
      " $ : NULL\n",
      " $ : NULL\n",
      " $ : num 61406\n",
      " $ : NULL\n",
      " $ : num 92654\n",
      " $ : NULL\n",
      " $ : NULL\n",
      " $ : num 64565\n",
      " $ : NULL\n",
      " $ : NULL\n",
      " $ : num 110673\n",
      " $ : NULL\n",
      " $ : NULL\n",
      " $ : num 69886\n",
      " $ : NULL\n",
      " $ : NULL\n",
      " $ : num 155154\n",
      " $ : NULL\n",
      " $ : NULL\n",
      " $ : num 76318\n",
      " $ : NULL\n",
      " $ : num NA\n",
      " $ : NULL\n",
      " $ : num NA\n",
      " $ : NULL\n",
      " $ : num NA\n",
      " $ : NULL\n",
      " $ : num NA\n",
      " $ : NULL\n",
      " $ : NULL\n",
      " $ : num 25767\n",
      " $ : NULL\n",
      " $ : NULL\n",
      " $ : num 80764\n",
      " $ : NULL\n",
      " $ : NULL\n",
      " $ : num 81250\n",
      " $ : NULL\n",
      " $ : NULL\n",
      " $ : num 1e+05\n",
      " $ : NULL\n",
      " $ : num 55995\n",
      "  [list output truncated]\n"
     ]
    }
   ],
   "source": [
    "%%R\n",
    "\n",
    "str(data_wide$med_inc)\n"
   ]
  },
  {
   "cell_type": "code",
   "execution_count": 24,
   "metadata": {},
   "outputs": [],
   "source": [
    "%%R\n",
    "# Convert 'med_inc' list to a numeric vector, replacing NULL with NA\n",
    "data_wide$med_inc <- sapply(data_wide$med_inc, function(x) if(is.null(x)) NA else as.numeric(x))\n"
   ]
  },
  {
   "cell_type": "code",
   "execution_count": 25,
   "metadata": {},
   "outputs": [
    {
     "name": "stdout",
     "output_type": "stream",
     "text": [
      "List of 1531\n",
      " $ : logi NA\n",
      " $ : logi NA\n",
      " $ : num 76767\n",
      " $ : logi NA\n",
      " $ : num 24769\n",
      " $ : logi NA\n",
      " $ : logi NA\n",
      " $ : num 45982\n",
      " $ : logi NA\n",
      " $ : logi NA\n",
      " $ : num 45982\n",
      " $ : logi NA\n",
      " $ : logi NA\n",
      " $ : num 153854\n",
      " $ : logi NA\n",
      " $ : logi NA\n",
      " $ : num 153854\n",
      " $ : logi NA\n",
      " $ : logi NA\n",
      " $ : num 22534\n",
      " $ : logi NA\n",
      " $ : num 52386\n",
      " $ : logi NA\n",
      " $ : num 67580\n",
      " $ : logi NA\n",
      " $ : logi NA\n",
      " $ : num 90828\n",
      " $ : logi NA\n",
      " $ : logi NA\n",
      " $ : num 90828\n",
      " $ : logi NA\n",
      " $ : logi NA\n",
      " $ : num 90828\n",
      " $ : logi NA\n",
      " $ : logi NA\n",
      " $ : num 90828\n",
      " $ : logi NA\n",
      " $ : num 71436\n",
      " $ : logi NA\n",
      " $ : logi NA\n",
      " $ : num 21381\n",
      " $ : logi NA\n",
      " $ : logi NA\n",
      " $ : num 37115\n",
      " $ : logi NA\n",
      " $ : logi NA\n",
      " $ : num 118250\n",
      " $ : logi NA\n",
      " $ : logi NA\n",
      " $ : num 90238\n",
      " $ : logi NA\n",
      " $ : logi NA\n",
      " $ : num 90238\n",
      " $ : logi NA\n",
      " $ : num NA\n",
      " $ : logi NA\n",
      " $ : num NA\n",
      " $ : logi NA\n",
      " $ : logi NA\n",
      " $ : num 61406\n",
      " $ : logi NA\n",
      " $ : num 92654\n",
      " $ : logi NA\n",
      " $ : logi NA\n",
      " $ : num 64565\n",
      " $ : logi NA\n",
      " $ : logi NA\n",
      " $ : num 110673\n",
      " $ : logi NA\n",
      " $ : logi NA\n",
      " $ : num 69886\n",
      " $ : logi NA\n",
      " $ : logi NA\n",
      " $ : num 155154\n",
      " $ : logi NA\n",
      " $ : logi NA\n",
      " $ : num 76318\n",
      " $ : logi NA\n",
      " $ : num NA\n",
      " $ : logi NA\n",
      " $ : num NA\n",
      " $ : logi NA\n",
      " $ : num NA\n",
      " $ : logi NA\n",
      " $ : num NA\n",
      " $ : logi NA\n",
      " $ : logi NA\n",
      " $ : num 25767\n",
      " $ : logi NA\n",
      " $ : logi NA\n",
      " $ : num 80764\n",
      " $ : logi NA\n",
      " $ : logi NA\n",
      " $ : num 81250\n",
      " $ : logi NA\n",
      " $ : logi NA\n",
      " $ : num 1e+05\n",
      " $ : logi NA\n",
      " $ : num 55995\n",
      "  [list output truncated]\n"
     ]
    }
   ],
   "source": [
    "%%R\n",
    "\n",
    "str(data_wide$med_inc)\n"
   ]
  },
  {
   "cell_type": "code",
   "execution_count": 28,
   "metadata": {},
   "outputs": [
    {
     "data": {
      "text/plain": [
       "In addition: Warning message:\n",
       "Values from `estimate` are not uniquely identified; output will contain\n",
       "list-cols.\n",
       "• Use `values_fn = list` to suppress this warning.\n",
       "• Use `values_fn = {summary_fun}` to summarise duplicates.\n",
       "• Use the following dplyr code to identify duplicates.\n",
       "  {data} |>\n",
       "  dplyr::summarise(n = dplyr::n(), .by = c(Name, Location, `Open Year-Round`,\n",
       "  `Handicap Accessible`, Borough, Comments, Latitude, Longitude, GEOID, STATE,\n",
       "  COUNTY, TRACT, BLOCK, NAME, moe, variable)) |>\n",
       "  dplyr::filter(n > 1L) \n"
      ]
     },
     "metadata": {},
     "output_type": "display_data"
    }
   ],
   "source": [
    "%%R\n",
    "library(tidyr)\n",
    "library(dplyr)\n",
    "\n",
    "# Transforming the data from long format to wide format\n",
    "data_wide <- data %>%\n",
    "  pivot_wider(names_from = variable, values_from = estimate)\n",
    "\n"
   ]
  },
  {
   "cell_type": "code",
   "execution_count": 22,
   "metadata": {},
   "outputs": [
    {
     "name": "stdout",
     "output_type": "stream",
     "text": [
      "Error in (function (expr, envir = parent.frame(), enclos = if (is.list(envir) ||  : \n",
      "  'list' object cannot be coerced to type 'double'\n"
     ]
    },
    {
     "ename": "RInterpreterError",
     "evalue": "Failed to parse and evaluate line 'data_wide$med_inc <- as.numeric(data_wide$med_inc)\\ndata_wide$population <- as.numeric(data_wide$population)\\ndata_wide$poverty <- as.numeric(data_wide$poverty)\\n'.\nR error message: \"Error in (function (expr, envir = parent.frame(), enclos = if (is.list(envir) ||  : \\n  'list' object cannot be coerced to type 'double'\"",
     "output_type": "error",
     "traceback": [
      "\u001b[0;31m---------------------------------------------------------------------------\u001b[0m",
      "\u001b[0;31mRRuntimeError\u001b[0m                             Traceback (most recent call last)",
      "File \u001b[0;32m~/.pyenv/versions/3.11.6/lib/python3.11/site-packages/rpy2/ipython/rmagic.py:407\u001b[0m, in \u001b[0;36mRMagics.eval\u001b[0;34m(self, code)\u001b[0m\n\u001b[1;32m    406\u001b[0m     r_expr \u001b[38;5;241m=\u001b[39m ri\u001b[38;5;241m.\u001b[39mparse(code)\n\u001b[0;32m--> 407\u001b[0m     value, visible \u001b[38;5;241m=\u001b[39m \u001b[43mri\u001b[49m\u001b[38;5;241;43m.\u001b[39;49m\u001b[43mevalr_expr_with_visible\u001b[49m\u001b[43m(\u001b[49m\n\u001b[1;32m    408\u001b[0m \u001b[43m        \u001b[49m\u001b[43mr_expr\u001b[49m\n\u001b[1;32m    409\u001b[0m \u001b[43m    \u001b[49m\u001b[43m)\u001b[49m\n\u001b[1;32m    410\u001b[0m \u001b[38;5;28;01mexcept\u001b[39;00m (ri\u001b[38;5;241m.\u001b[39membedded\u001b[38;5;241m.\u001b[39mRRuntimeError, \u001b[38;5;167;01mValueError\u001b[39;00m) \u001b[38;5;28;01mas\u001b[39;00m exception:\n\u001b[1;32m    411\u001b[0m     \u001b[38;5;66;03m# Otherwise next return seems to have copy of error.\u001b[39;00m\n",
      "File \u001b[0;32m~/.pyenv/versions/3.11.6/lib/python3.11/site-packages/rpy2/rinterface.py:196\u001b[0m, in \u001b[0;36mevalr_expr_with_visible\u001b[0;34m(expr, envir)\u001b[0m\n\u001b[1;32m    195\u001b[0m \u001b[38;5;28;01mif\u001b[39;00m error_occured[\u001b[38;5;241m0\u001b[39m]:\n\u001b[0;32m--> 196\u001b[0m     \u001b[38;5;28;01mraise\u001b[39;00m embedded\u001b[38;5;241m.\u001b[39mRRuntimeError(_rinterface\u001b[38;5;241m.\u001b[39m_geterrmessage())\n\u001b[1;32m    197\u001b[0m res \u001b[38;5;241m=\u001b[39m conversion\u001b[38;5;241m.\u001b[39m_cdata_to_rinterface(r_res)\n",
      "\u001b[0;31mRRuntimeError\u001b[0m: Error in (function (expr, envir = parent.frame(), enclos = if (is.list(envir) ||  : \n  'list' object cannot be coerced to type 'double'\n",
      "\nDuring handling of the above exception, another exception occurred:\n",
      "\u001b[0;31mRInterpreterError\u001b[0m                         Traceback (most recent call last)",
      "Cell \u001b[0;32mIn[22], line 1\u001b[0m\n\u001b[0;32m----> 1\u001b[0m \u001b[43mget_ipython\u001b[49m\u001b[43m(\u001b[49m\u001b[43m)\u001b[49m\u001b[38;5;241;43m.\u001b[39;49m\u001b[43mrun_cell_magic\u001b[49m\u001b[43m(\u001b[49m\u001b[38;5;124;43m'\u001b[39;49m\u001b[38;5;124;43mR\u001b[39;49m\u001b[38;5;124;43m'\u001b[39;49m\u001b[43m,\u001b[49m\u001b[43m \u001b[49m\u001b[38;5;124;43m'\u001b[39;49m\u001b[38;5;124;43m'\u001b[39;49m\u001b[43m,\u001b[49m\u001b[43m \u001b[49m\u001b[38;5;124;43m'\u001b[39;49m\u001b[38;5;124;43mdata_wide$med_inc <- as.numeric(data_wide$med_inc)\u001b[39;49m\u001b[38;5;130;43;01m\\n\u001b[39;49;00m\u001b[38;5;124;43mdata_wide$population <- as.numeric(data_wide$population)\u001b[39;49m\u001b[38;5;130;43;01m\\n\u001b[39;49;00m\u001b[38;5;124;43mdata_wide$poverty <- as.numeric(data_wide$poverty)\u001b[39;49m\u001b[38;5;130;43;01m\\n\u001b[39;49;00m\u001b[38;5;124;43m'\u001b[39;49m\u001b[43m)\u001b[49m\n",
      "File \u001b[0;32m~/.pyenv/versions/3.11.6/lib/python3.11/site-packages/IPython/core/interactiveshell.py:2517\u001b[0m, in \u001b[0;36mInteractiveShell.run_cell_magic\u001b[0;34m(self, magic_name, line, cell)\u001b[0m\n\u001b[1;32m   2515\u001b[0m \u001b[38;5;28;01mwith\u001b[39;00m \u001b[38;5;28mself\u001b[39m\u001b[38;5;241m.\u001b[39mbuiltin_trap:\n\u001b[1;32m   2516\u001b[0m     args \u001b[38;5;241m=\u001b[39m (magic_arg_s, cell)\n\u001b[0;32m-> 2517\u001b[0m     result \u001b[38;5;241m=\u001b[39m \u001b[43mfn\u001b[49m\u001b[43m(\u001b[49m\u001b[38;5;241;43m*\u001b[39;49m\u001b[43margs\u001b[49m\u001b[43m,\u001b[49m\u001b[43m \u001b[49m\u001b[38;5;241;43m*\u001b[39;49m\u001b[38;5;241;43m*\u001b[39;49m\u001b[43mkwargs\u001b[49m\u001b[43m)\u001b[49m\n\u001b[1;32m   2519\u001b[0m \u001b[38;5;66;03m# The code below prevents the output from being displayed\u001b[39;00m\n\u001b[1;32m   2520\u001b[0m \u001b[38;5;66;03m# when using magics with decorator @output_can_be_silenced\u001b[39;00m\n\u001b[1;32m   2521\u001b[0m \u001b[38;5;66;03m# when the last Python token in the expression is a ';'.\u001b[39;00m\n\u001b[1;32m   2522\u001b[0m \u001b[38;5;28;01mif\u001b[39;00m \u001b[38;5;28mgetattr\u001b[39m(fn, magic\u001b[38;5;241m.\u001b[39mMAGIC_OUTPUT_CAN_BE_SILENCED, \u001b[38;5;28;01mFalse\u001b[39;00m):\n",
      "File \u001b[0;32m~/.pyenv/versions/3.11.6/lib/python3.11/site-packages/rpy2/ipython/rmagic.py:984\u001b[0m, in \u001b[0;36mRMagics.R\u001b[0;34m(self, line, cell, local_ns)\u001b[0m\n\u001b[1;32m    982\u001b[0m     \u001b[38;5;28;01mif\u001b[39;00m \u001b[38;5;129;01mnot\u001b[39;00m e\u001b[38;5;241m.\u001b[39mstdout\u001b[38;5;241m.\u001b[39mendswith(e\u001b[38;5;241m.\u001b[39merr):\n\u001b[1;32m    983\u001b[0m         \u001b[38;5;28mprint\u001b[39m(e\u001b[38;5;241m.\u001b[39merr)\n\u001b[0;32m--> 984\u001b[0m     \u001b[38;5;28;01mraise\u001b[39;00m e\n\u001b[1;32m    985\u001b[0m \u001b[38;5;28;01mfinally\u001b[39;00m:\n\u001b[1;32m    986\u001b[0m     \u001b[38;5;28;01mif\u001b[39;00m \u001b[38;5;28mself\u001b[39m\u001b[38;5;241m.\u001b[39mdevice \u001b[38;5;129;01min\u001b[39;00m DEVICES_STATIC:\n",
      "File \u001b[0;32m~/.pyenv/versions/3.11.6/lib/python3.11/site-packages/rpy2/ipython/rmagic.py:949\u001b[0m, in \u001b[0;36mRMagics.R\u001b[0;34m(self, line, cell, local_ns)\u001b[0m\n\u001b[1;32m    947\u001b[0m         return_output \u001b[38;5;241m=\u001b[39m \u001b[38;5;28;01mFalse\u001b[39;00m\n\u001b[1;32m    948\u001b[0m \u001b[38;5;28;01melse\u001b[39;00m:\n\u001b[0;32m--> 949\u001b[0m     text_result, result, visible \u001b[38;5;241m=\u001b[39m \u001b[38;5;28;43mself\u001b[39;49m\u001b[38;5;241;43m.\u001b[39;49m\u001b[43meval\u001b[49m\u001b[43m(\u001b[49m\u001b[43mcode\u001b[49m\u001b[43m)\u001b[49m\n\u001b[1;32m    950\u001b[0m     text_output \u001b[38;5;241m+\u001b[39m\u001b[38;5;241m=\u001b[39m text_result\n\u001b[1;32m    951\u001b[0m     \u001b[38;5;28;01mif\u001b[39;00m visible:\n",
      "File \u001b[0;32m~/.pyenv/versions/3.11.6/lib/python3.11/site-packages/rpy2/ipython/rmagic.py:413\u001b[0m, in \u001b[0;36mRMagics.eval\u001b[0;34m(self, code)\u001b[0m\n\u001b[1;32m    410\u001b[0m \u001b[38;5;28;01mexcept\u001b[39;00m (ri\u001b[38;5;241m.\u001b[39membedded\u001b[38;5;241m.\u001b[39mRRuntimeError, \u001b[38;5;167;01mValueError\u001b[39;00m) \u001b[38;5;28;01mas\u001b[39;00m exception:\n\u001b[1;32m    411\u001b[0m     \u001b[38;5;66;03m# Otherwise next return seems to have copy of error.\u001b[39;00m\n\u001b[1;32m    412\u001b[0m     warning_or_other_msg \u001b[38;5;241m=\u001b[39m \u001b[38;5;28mself\u001b[39m\u001b[38;5;241m.\u001b[39mflush()\n\u001b[0;32m--> 413\u001b[0m     \u001b[38;5;28;01mraise\u001b[39;00m RInterpreterError(code, \u001b[38;5;28mstr\u001b[39m(exception),\n\u001b[1;32m    414\u001b[0m                             warning_or_other_msg)\n\u001b[1;32m    415\u001b[0m \u001b[38;5;28;01mfinally\u001b[39;00m:\n\u001b[1;32m    416\u001b[0m     ro\u001b[38;5;241m.\u001b[39m_print_deferred_warnings()\n",
      "\u001b[0;31mRInterpreterError\u001b[0m: Failed to parse and evaluate line 'data_wide$med_inc <- as.numeric(data_wide$med_inc)\\ndata_wide$population <- as.numeric(data_wide$population)\\ndata_wide$poverty <- as.numeric(data_wide$poverty)\\n'.\nR error message: \"Error in (function (expr, envir = parent.frame(), enclos = if (is.list(envir) ||  : \\n  'list' object cannot be coerced to type 'double'\""
     ]
    }
   ],
   "source": [
    "%%R\n",
    "data_wide$med_inc <- as.numeric(data_wide$med_inc)\n",
    "data_wide$population <- as.numeric(data_wide$population)\n",
    "data_wide$poverty <- as.numeric(data_wide$poverty)\n"
   ]
  },
  {
   "cell_type": "code",
   "execution_count": 11,
   "metadata": {},
   "outputs": [
    {
     "name": "stdout",
     "output_type": "stream",
     "text": [
      "# A tibble: 1,842 × 17\n",
      "   Name        Location `Open Year-Round` `Handicap Accessible` Borough Comments\n",
      "   <chr>       <chr>    <chr>             <chr>                 <chr>   <chr>   \n",
      " 1 100% Playg… Glenwoo… Yes               <NA>                  Brookl… <NA>    \n",
      " 2 100% Playg… Glenwoo… Yes               <NA>                  Brookl… <NA>    \n",
      " 3 100% Playg… Glenwoo… Yes               <NA>                  Brookl… <NA>    \n",
      " 4 174th Stre… East 17… Yes               <NA>                  Bronx   <NA>    \n",
      " 5 174th Stre… East 17… Yes               <NA>                  Bronx   <NA>    \n",
      " 6 174th Stre… East 17… Yes               <NA>                  Bronx   <NA>    \n",
      " 7 227 Street… Bronx B… Yes               Yes                   Bronx   <NA>    \n",
      " 8 227 Street… Bronx B… Yes               Yes                   Bronx   <NA>    \n",
      " 9 227 Street… Bronx B… Yes               Yes                   Bronx   <NA>    \n",
      "10 Rienzi Pla… East 22… Yes               <NA>                  Bronx   <NA>    \n",
      "# ℹ 1,832 more rows\n",
      "# ℹ 11 more variables: Latitude <dbl>, Longitude <dbl>, GEOID <chr>,\n",
      "#   STATE <dbl>, COUNTY <dbl>, TRACT <dbl>, BLOCK <dbl>, NAME <chr>,\n",
      "#   variable <chr>, estimate <dbl>, moe <dbl>\n",
      "# ℹ Use `print(n = ...)` to see more rows\n"
     ]
    }
   ],
   "source": [
    "%%R -o data\n",
    "\n",
    "library(tidyverse)\n",
    "\n",
    "data"
   ]
  },
  {
   "cell_type": "code",
   "execution_count": 13,
   "metadata": {},
   "outputs": [
    {
     "name": "stdout",
     "output_type": "stream",
     "text": [
      "          Latitude Longitude STATE COUNTY TRACT BLOCK estimate moe\n",
      "Latitude         1        NA    NA     NA    NA    NA       NA  NA\n",
      "Longitude       NA         1    NA     NA    NA    NA       NA  NA\n",
      "STATE           NA        NA     1     NA    NA    NA       NA  NA\n",
      "COUNTY          NA        NA    NA      1    NA    NA       NA  NA\n",
      "TRACT           NA        NA    NA     NA     1    NA       NA  NA\n",
      "BLOCK           NA        NA    NA     NA    NA     1       NA  NA\n",
      "estimate        NA        NA    NA     NA    NA    NA        1  NA\n",
      "moe             NA        NA    NA     NA    NA    NA       NA   1\n"
     ]
    }
   ],
   "source": [
    "%%R \n",
    "\n",
    "# correlation matrix of mtcars\n",
    "cor(rounded_cor_matrix) %>% round(2)"
   ]
  },
  {
   "cell_type": "code",
   "execution_count": 5,
   "metadata": {},
   "outputs": [
    {
     "name": "stdout",
     "output_type": "stream",
     "text": [
      "Error in UseMethod(\"tbl_vars\") : \n",
      "  no applicable method for 'tbl_vars' applied to an object of class \"function\"\n"
     ]
    },
    {
     "ename": "RInterpreterError",
     "evalue": "Failed to parse and evaluate line \"\\nlibrary(dplyr)\\n\\n# Assuming 'data' is your dataframe\\n# First, ensure that 'data' only includes numeric columns if it currently doesn't\\nnumeric_data <- select_if(data, is.numeric)\\n\\n# Now, compute the correlation matrix for the numeric columns\\ncor_matrix <- cor(numeric_data)\\n\\n# Round the correlation matrix for easier reading\\nrounded_cor_matrix <- round(cor_matrix, 2)\\n\\n# Print the rounded correlation matrix\\nprint(rounded_cor_matrix)\\n\".\nR error message: 'Error in UseMethod(\"tbl_vars\") : \\n  no applicable method for \\'tbl_vars\\' applied to an object of class \"function\"'",
     "output_type": "error",
     "traceback": [
      "\u001b[0;31m---------------------------------------------------------------------------\u001b[0m",
      "\u001b[0;31mRRuntimeError\u001b[0m                             Traceback (most recent call last)",
      "File \u001b[0;32m~/.pyenv/versions/3.11.6/lib/python3.11/site-packages/rpy2/ipython/rmagic.py:407\u001b[0m, in \u001b[0;36mRMagics.eval\u001b[0;34m(self, code)\u001b[0m\n\u001b[1;32m    406\u001b[0m     r_expr \u001b[38;5;241m=\u001b[39m ri\u001b[38;5;241m.\u001b[39mparse(code)\n\u001b[0;32m--> 407\u001b[0m     value, visible \u001b[38;5;241m=\u001b[39m \u001b[43mri\u001b[49m\u001b[38;5;241;43m.\u001b[39;49m\u001b[43mevalr_expr_with_visible\u001b[49m\u001b[43m(\u001b[49m\n\u001b[1;32m    408\u001b[0m \u001b[43m        \u001b[49m\u001b[43mr_expr\u001b[49m\n\u001b[1;32m    409\u001b[0m \u001b[43m    \u001b[49m\u001b[43m)\u001b[49m\n\u001b[1;32m    410\u001b[0m \u001b[38;5;28;01mexcept\u001b[39;00m (ri\u001b[38;5;241m.\u001b[39membedded\u001b[38;5;241m.\u001b[39mRRuntimeError, \u001b[38;5;167;01mValueError\u001b[39;00m) \u001b[38;5;28;01mas\u001b[39;00m exception:\n\u001b[1;32m    411\u001b[0m     \u001b[38;5;66;03m# Otherwise next return seems to have copy of error.\u001b[39;00m\n",
      "File \u001b[0;32m~/.pyenv/versions/3.11.6/lib/python3.11/site-packages/rpy2/rinterface.py:196\u001b[0m, in \u001b[0;36mevalr_expr_with_visible\u001b[0;34m(expr, envir)\u001b[0m\n\u001b[1;32m    195\u001b[0m \u001b[38;5;28;01mif\u001b[39;00m error_occured[\u001b[38;5;241m0\u001b[39m]:\n\u001b[0;32m--> 196\u001b[0m     \u001b[38;5;28;01mraise\u001b[39;00m embedded\u001b[38;5;241m.\u001b[39mRRuntimeError(_rinterface\u001b[38;5;241m.\u001b[39m_geterrmessage())\n\u001b[1;32m    197\u001b[0m res \u001b[38;5;241m=\u001b[39m conversion\u001b[38;5;241m.\u001b[39m_cdata_to_rinterface(r_res)\n",
      "\u001b[0;31mRRuntimeError\u001b[0m: Error in UseMethod(\"tbl_vars\") : \n  no applicable method for 'tbl_vars' applied to an object of class \"function\"\n",
      "\nDuring handling of the above exception, another exception occurred:\n",
      "\u001b[0;31mRInterpreterError\u001b[0m                         Traceback (most recent call last)",
      "Cell \u001b[0;32mIn[5], line 1\u001b[0m\n\u001b[0;32m----> 1\u001b[0m \u001b[43mget_ipython\u001b[49m\u001b[43m(\u001b[49m\u001b[43m)\u001b[49m\u001b[38;5;241;43m.\u001b[39;49m\u001b[43mrun_cell_magic\u001b[49m\u001b[43m(\u001b[49m\u001b[38;5;124;43m'\u001b[39;49m\u001b[38;5;124;43mR\u001b[39;49m\u001b[38;5;124;43m'\u001b[39;49m\u001b[43m,\u001b[49m\u001b[43m \u001b[49m\u001b[38;5;124;43m'\u001b[39;49m\u001b[38;5;124;43m'\u001b[39;49m\u001b[43m,\u001b[49m\u001b[43m \u001b[49m\u001b[38;5;124;43m\"\u001b[39;49m\u001b[38;5;130;43;01m\\n\u001b[39;49;00m\u001b[38;5;124;43mlibrary(dplyr)\u001b[39;49m\u001b[38;5;130;43;01m\\n\u001b[39;49;00m\u001b[38;5;130;43;01m\\n\u001b[39;49;00m\u001b[38;5;124;43m# Assuming \u001b[39;49m\u001b[38;5;124;43m'\u001b[39;49m\u001b[38;5;124;43mdata\u001b[39;49m\u001b[38;5;124;43m'\u001b[39;49m\u001b[38;5;124;43m is your dataframe\u001b[39;49m\u001b[38;5;130;43;01m\\n\u001b[39;49;00m\u001b[38;5;124;43m# First, ensure that \u001b[39;49m\u001b[38;5;124;43m'\u001b[39;49m\u001b[38;5;124;43mdata\u001b[39;49m\u001b[38;5;124;43m'\u001b[39;49m\u001b[38;5;124;43m only includes numeric columns if it currently doesn\u001b[39;49m\u001b[38;5;124;43m'\u001b[39;49m\u001b[38;5;124;43mt\u001b[39;49m\u001b[38;5;130;43;01m\\n\u001b[39;49;00m\u001b[38;5;124;43mnumeric_data <- select_if(data, is.numeric)\u001b[39;49m\u001b[38;5;130;43;01m\\n\u001b[39;49;00m\u001b[38;5;130;43;01m\\n\u001b[39;49;00m\u001b[38;5;124;43m# Now, compute the correlation matrix for the numeric columns\u001b[39;49m\u001b[38;5;130;43;01m\\n\u001b[39;49;00m\u001b[38;5;124;43mcor_matrix <- cor(numeric_data)\u001b[39;49m\u001b[38;5;130;43;01m\\n\u001b[39;49;00m\u001b[38;5;130;43;01m\\n\u001b[39;49;00m\u001b[38;5;124;43m# Round the correlation matrix for easier reading\u001b[39;49m\u001b[38;5;130;43;01m\\n\u001b[39;49;00m\u001b[38;5;124;43mrounded_cor_matrix <- round(cor_matrix, 2)\u001b[39;49m\u001b[38;5;130;43;01m\\n\u001b[39;49;00m\u001b[38;5;130;43;01m\\n\u001b[39;49;00m\u001b[38;5;124;43m# Print the rounded correlation matrix\u001b[39;49m\u001b[38;5;130;43;01m\\n\u001b[39;49;00m\u001b[38;5;124;43mprint(rounded_cor_matrix)\u001b[39;49m\u001b[38;5;130;43;01m\\n\u001b[39;49;00m\u001b[38;5;124;43m\"\u001b[39;49m\u001b[43m)\u001b[49m\n",
      "File \u001b[0;32m~/.pyenv/versions/3.11.6/lib/python3.11/site-packages/IPython/core/interactiveshell.py:2517\u001b[0m, in \u001b[0;36mInteractiveShell.run_cell_magic\u001b[0;34m(self, magic_name, line, cell)\u001b[0m\n\u001b[1;32m   2515\u001b[0m \u001b[38;5;28;01mwith\u001b[39;00m \u001b[38;5;28mself\u001b[39m\u001b[38;5;241m.\u001b[39mbuiltin_trap:\n\u001b[1;32m   2516\u001b[0m     args \u001b[38;5;241m=\u001b[39m (magic_arg_s, cell)\n\u001b[0;32m-> 2517\u001b[0m     result \u001b[38;5;241m=\u001b[39m \u001b[43mfn\u001b[49m\u001b[43m(\u001b[49m\u001b[38;5;241;43m*\u001b[39;49m\u001b[43margs\u001b[49m\u001b[43m,\u001b[49m\u001b[43m \u001b[49m\u001b[38;5;241;43m*\u001b[39;49m\u001b[38;5;241;43m*\u001b[39;49m\u001b[43mkwargs\u001b[49m\u001b[43m)\u001b[49m\n\u001b[1;32m   2519\u001b[0m \u001b[38;5;66;03m# The code below prevents the output from being displayed\u001b[39;00m\n\u001b[1;32m   2520\u001b[0m \u001b[38;5;66;03m# when using magics with decorator @output_can_be_silenced\u001b[39;00m\n\u001b[1;32m   2521\u001b[0m \u001b[38;5;66;03m# when the last Python token in the expression is a ';'.\u001b[39;00m\n\u001b[1;32m   2522\u001b[0m \u001b[38;5;28;01mif\u001b[39;00m \u001b[38;5;28mgetattr\u001b[39m(fn, magic\u001b[38;5;241m.\u001b[39mMAGIC_OUTPUT_CAN_BE_SILENCED, \u001b[38;5;28;01mFalse\u001b[39;00m):\n",
      "File \u001b[0;32m~/.pyenv/versions/3.11.6/lib/python3.11/site-packages/rpy2/ipython/rmagic.py:984\u001b[0m, in \u001b[0;36mRMagics.R\u001b[0;34m(self, line, cell, local_ns)\u001b[0m\n\u001b[1;32m    982\u001b[0m     \u001b[38;5;28;01mif\u001b[39;00m \u001b[38;5;129;01mnot\u001b[39;00m e\u001b[38;5;241m.\u001b[39mstdout\u001b[38;5;241m.\u001b[39mendswith(e\u001b[38;5;241m.\u001b[39merr):\n\u001b[1;32m    983\u001b[0m         \u001b[38;5;28mprint\u001b[39m(e\u001b[38;5;241m.\u001b[39merr)\n\u001b[0;32m--> 984\u001b[0m     \u001b[38;5;28;01mraise\u001b[39;00m e\n\u001b[1;32m    985\u001b[0m \u001b[38;5;28;01mfinally\u001b[39;00m:\n\u001b[1;32m    986\u001b[0m     \u001b[38;5;28;01mif\u001b[39;00m \u001b[38;5;28mself\u001b[39m\u001b[38;5;241m.\u001b[39mdevice \u001b[38;5;129;01min\u001b[39;00m DEVICES_STATIC:\n",
      "File \u001b[0;32m~/.pyenv/versions/3.11.6/lib/python3.11/site-packages/rpy2/ipython/rmagic.py:949\u001b[0m, in \u001b[0;36mRMagics.R\u001b[0;34m(self, line, cell, local_ns)\u001b[0m\n\u001b[1;32m    947\u001b[0m         return_output \u001b[38;5;241m=\u001b[39m \u001b[38;5;28;01mFalse\u001b[39;00m\n\u001b[1;32m    948\u001b[0m \u001b[38;5;28;01melse\u001b[39;00m:\n\u001b[0;32m--> 949\u001b[0m     text_result, result, visible \u001b[38;5;241m=\u001b[39m \u001b[38;5;28;43mself\u001b[39;49m\u001b[38;5;241;43m.\u001b[39;49m\u001b[43meval\u001b[49m\u001b[43m(\u001b[49m\u001b[43mcode\u001b[49m\u001b[43m)\u001b[49m\n\u001b[1;32m    950\u001b[0m     text_output \u001b[38;5;241m+\u001b[39m\u001b[38;5;241m=\u001b[39m text_result\n\u001b[1;32m    951\u001b[0m     \u001b[38;5;28;01mif\u001b[39;00m visible:\n",
      "File \u001b[0;32m~/.pyenv/versions/3.11.6/lib/python3.11/site-packages/rpy2/ipython/rmagic.py:413\u001b[0m, in \u001b[0;36mRMagics.eval\u001b[0;34m(self, code)\u001b[0m\n\u001b[1;32m    410\u001b[0m \u001b[38;5;28;01mexcept\u001b[39;00m (ri\u001b[38;5;241m.\u001b[39membedded\u001b[38;5;241m.\u001b[39mRRuntimeError, \u001b[38;5;167;01mValueError\u001b[39;00m) \u001b[38;5;28;01mas\u001b[39;00m exception:\n\u001b[1;32m    411\u001b[0m     \u001b[38;5;66;03m# Otherwise next return seems to have copy of error.\u001b[39;00m\n\u001b[1;32m    412\u001b[0m     warning_or_other_msg \u001b[38;5;241m=\u001b[39m \u001b[38;5;28mself\u001b[39m\u001b[38;5;241m.\u001b[39mflush()\n\u001b[0;32m--> 413\u001b[0m     \u001b[38;5;28;01mraise\u001b[39;00m RInterpreterError(code, \u001b[38;5;28mstr\u001b[39m(exception),\n\u001b[1;32m    414\u001b[0m                             warning_or_other_msg)\n\u001b[1;32m    415\u001b[0m \u001b[38;5;28;01mfinally\u001b[39;00m:\n\u001b[1;32m    416\u001b[0m     ro\u001b[38;5;241m.\u001b[39m_print_deferred_warnings()\n",
      "\u001b[0;31mRInterpreterError\u001b[0m: Failed to parse and evaluate line \"\\nlibrary(dplyr)\\n\\n# Assuming 'data' is your dataframe\\n# First, ensure that 'data' only includes numeric columns if it currently doesn't\\nnumeric_data <- select_if(data, is.numeric)\\n\\n# Now, compute the correlation matrix for the numeric columns\\ncor_matrix <- cor(numeric_data)\\n\\n# Round the correlation matrix for easier reading\\nrounded_cor_matrix <- round(cor_matrix, 2)\\n\\n# Print the rounded correlation matrix\\nprint(rounded_cor_matrix)\\n\".\nR error message: 'Error in UseMethod(\"tbl_vars\") : \\n  no applicable method for \\'tbl_vars\\' applied to an object of class \"function\"'"
     ]
    }
   ],
   "source": [
    "%%R \n",
    "\n",
    "library(dplyr)\n",
    "\n",
    "# Assuming 'data' is your dataframe\n",
    "# First, ensure that 'data' only includes numeric columns if it currently doesn't\n",
    "numeric_data <- select_if(data, is.numeric)\n",
    "\n",
    "# Now, compute the correlation matrix for the numeric columns\n",
    "cor_matrix <- cor(numeric_data)\n",
    "\n",
    "# Round the correlation matrix for easier reading\n",
    "rounded_cor_matrix <- round(cor_matrix, 2)\n",
    "\n",
    "# Print the rounded correlation matrix\n",
    "print(rounded_cor_matrix)\n"
   ]
  }
 ],
 "metadata": {
  "kernelspec": {
   "display_name": "Python 3",
   "language": "python",
   "name": "python3"
  },
  "language_info": {
   "codemirror_mode": {
    "name": "ipython",
    "version": 3
   },
   "file_extension": ".py",
   "mimetype": "text/x-python",
   "name": "python",
   "nbconvert_exporter": "python",
   "pygments_lexer": "ipython3",
   "version": "3.11.6"
  }
 },
 "nbformat": 4,
 "nbformat_minor": 2
}
